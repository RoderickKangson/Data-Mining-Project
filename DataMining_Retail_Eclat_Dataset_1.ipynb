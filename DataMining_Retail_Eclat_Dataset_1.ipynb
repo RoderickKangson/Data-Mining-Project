{
  "cells": [
    {
      "cell_type": "code",
      "execution_count": null,
      "metadata": {
        "colab": {
          "base_uri": "https://localhost:8080/",
          "height": 1000
        },
        "id": "tnb1yPZegP01",
        "outputId": "ffd2aac2-bb50-4df0-b5df-df583dbbc1fa",
        "vscode": {
          "languageId": "r"
        }
      },
      "outputs": [
        {
          "data": {
            "text/html": [
              "<table class=\"dataframe\">\n",
              "<caption>A data.frame: 401604 × 8</caption>\n",
              "<thead>\n",
              "\t<tr><th></th><th scope=col>InvoiceNo</th><th scope=col>StockCode</th><th scope=col>Description</th><th scope=col>Quantity</th><th scope=col>InvoiceDate</th><th scope=col>UnitPrice</th><th scope=col>CustomerID</th><th scope=col>Country</th></tr>\n",
              "\t<tr><th></th><th scope=col>&lt;chr&gt;</th><th scope=col>&lt;chr&gt;</th><th scope=col>&lt;chr&gt;</th><th scope=col>&lt;int&gt;</th><th scope=col>&lt;chr&gt;</th><th scope=col>&lt;dbl&gt;</th><th scope=col>&lt;dbl&gt;</th><th scope=col>&lt;chr&gt;</th></tr>\n",
              "</thead>\n",
              "<tbody>\n",
              "\t<tr><th scope=row>1</th><td>536365</td><td>85123A</td><td>WHITE HANGING HEART T-LIGHT HOLDER </td><td> 6</td><td>2010-12-01 08:26:00</td><td>2.55</td><td>17850</td><td>United Kingdom</td></tr>\n",
              "\t<tr><th scope=row>2</th><td>536365</td><td>71053 </td><td>WHITE METAL LANTERN                </td><td> 6</td><td>2010-12-01 08:26:00</td><td>3.39</td><td>17850</td><td>United Kingdom</td></tr>\n",
              "\t<tr><th scope=row>3</th><td>536365</td><td>84406B</td><td>CREAM CUPID HEARTS COAT HANGER     </td><td> 8</td><td>2010-12-01 08:26:00</td><td>2.75</td><td>17850</td><td>United Kingdom</td></tr>\n",
              "\t<tr><th scope=row>4</th><td>536365</td><td>84029G</td><td>KNITTED UNION FLAG HOT WATER BOTTLE</td><td> 6</td><td>2010-12-01 08:26:00</td><td>3.39</td><td>17850</td><td>United Kingdom</td></tr>\n",
              "\t<tr><th scope=row>5</th><td>536365</td><td>84029E</td><td>RED WOOLLY HOTTIE WHITE HEART.     </td><td> 6</td><td>2010-12-01 08:26:00</td><td>3.39</td><td>17850</td><td>United Kingdom</td></tr>\n",
              "\t<tr><th scope=row>6</th><td>536365</td><td>22752 </td><td>SET 7 BABUSHKA NESTING BOXES       </td><td> 2</td><td>2010-12-01 08:26:00</td><td>7.65</td><td>17850</td><td>United Kingdom</td></tr>\n",
              "\t<tr><th scope=row>7</th><td>536365</td><td>21730 </td><td>GLASS STAR FROSTED T-LIGHT HOLDER  </td><td> 6</td><td>2010-12-01 08:26:00</td><td>4.25</td><td>17850</td><td>United Kingdom</td></tr>\n",
              "\t<tr><th scope=row>8</th><td>536366</td><td>22633 </td><td>HAND WARMER UNION JACK             </td><td> 6</td><td>2010-12-01 08:28:00</td><td>1.85</td><td>17850</td><td>United Kingdom</td></tr>\n",
              "\t<tr><th scope=row>9</th><td>536366</td><td>22632 </td><td>HAND WARMER RED POLKA DOT          </td><td> 6</td><td>2010-12-01 08:28:00</td><td>1.85</td><td>17850</td><td>United Kingdom</td></tr>\n",
              "\t<tr><th scope=row>10</th><td>536367</td><td>84879 </td><td>ASSORTED COLOUR BIRD ORNAMENT      </td><td>32</td><td>2010-12-01 08:34:00</td><td>1.69</td><td>13047</td><td>United Kingdom</td></tr>\n",
              "\t<tr><th scope=row>11</th><td>536367</td><td>22745 </td><td>POPPY'S PLAYHOUSE BEDROOM          </td><td> 6</td><td>2010-12-01 08:34:00</td><td>2.10</td><td>13047</td><td>United Kingdom</td></tr>\n",
              "\t<tr><th scope=row>12</th><td>536367</td><td>22748 </td><td>POPPY'S PLAYHOUSE KITCHEN          </td><td> 6</td><td>2010-12-01 08:34:00</td><td>2.10</td><td>13047</td><td>United Kingdom</td></tr>\n",
              "\t<tr><th scope=row>13</th><td>536367</td><td>22749 </td><td>FELTCRAFT PRINCESS CHARLOTTE DOLL  </td><td> 8</td><td>2010-12-01 08:34:00</td><td>3.75</td><td>13047</td><td>United Kingdom</td></tr>\n",
              "\t<tr><th scope=row>14</th><td>536367</td><td>22310 </td><td>IVORY KNITTED MUG COSY             </td><td> 6</td><td>2010-12-01 08:34:00</td><td>1.65</td><td>13047</td><td>United Kingdom</td></tr>\n",
              "\t<tr><th scope=row>15</th><td>536367</td><td>84969 </td><td>BOX OF 6 ASSORTED COLOUR TEASPOONS </td><td> 6</td><td>2010-12-01 08:34:00</td><td>4.25</td><td>13047</td><td>United Kingdom</td></tr>\n",
              "\t<tr><th scope=row>16</th><td>536367</td><td>22623 </td><td>BOX OF VINTAGE JIGSAW BLOCKS       </td><td> 3</td><td>2010-12-01 08:34:00</td><td>4.95</td><td>13047</td><td>United Kingdom</td></tr>\n",
              "\t<tr><th scope=row>17</th><td>536367</td><td>22622 </td><td>BOX OF VINTAGE ALPHABET BLOCKS     </td><td> 2</td><td>2010-12-01 08:34:00</td><td>9.95</td><td>13047</td><td>United Kingdom</td></tr>\n",
              "\t<tr><th scope=row>18</th><td>536367</td><td>21754 </td><td>HOME BUILDING BLOCK WORD           </td><td> 3</td><td>2010-12-01 08:34:00</td><td>5.95</td><td>13047</td><td>United Kingdom</td></tr>\n",
              "\t<tr><th scope=row>19</th><td>536367</td><td>21755 </td><td>LOVE BUILDING BLOCK WORD           </td><td> 3</td><td>2010-12-01 08:34:00</td><td>5.95</td><td>13047</td><td>United Kingdom</td></tr>\n",
              "\t<tr><th scope=row>20</th><td>536367</td><td>21777 </td><td>RECIPE BOX WITH METAL HEART        </td><td> 4</td><td>2010-12-01 08:34:00</td><td>7.95</td><td>13047</td><td>United Kingdom</td></tr>\n",
              "\t<tr><th scope=row>21</th><td>536367</td><td>48187 </td><td>DOORMAT NEW ENGLAND                </td><td> 4</td><td>2010-12-01 08:34:00</td><td>7.95</td><td>13047</td><td>United Kingdom</td></tr>\n",
              "\t<tr><th scope=row>22</th><td>536368</td><td>22960 </td><td>JAM MAKING SET WITH JARS           </td><td> 6</td><td>2010-12-01 08:34:00</td><td>4.25</td><td>13047</td><td>United Kingdom</td></tr>\n",
              "\t<tr><th scope=row>23</th><td>536368</td><td>22913 </td><td>RED COAT RACK PARIS FASHION        </td><td> 3</td><td>2010-12-01 08:34:00</td><td>4.95</td><td>13047</td><td>United Kingdom</td></tr>\n",
              "\t<tr><th scope=row>24</th><td>536368</td><td>22912 </td><td>YELLOW COAT RACK PARIS FASHION     </td><td> 3</td><td>2010-12-01 08:34:00</td><td>4.95</td><td>13047</td><td>United Kingdom</td></tr>\n",
              "\t<tr><th scope=row>25</th><td>536368</td><td>22914 </td><td>BLUE COAT RACK PARIS FASHION       </td><td> 3</td><td>2010-12-01 08:34:00</td><td>4.95</td><td>13047</td><td>United Kingdom</td></tr>\n",
              "\t<tr><th scope=row>26</th><td>536369</td><td>21756 </td><td>BATH BUILDING BLOCK WORD           </td><td> 3</td><td>2010-12-01 08:35:00</td><td>5.95</td><td>13047</td><td>United Kingdom</td></tr>\n",
              "\t<tr><th scope=row>27</th><td>536370</td><td>22728 </td><td>ALARM CLOCK BAKELIKE PINK          </td><td>24</td><td>2010-12-01 08:45:00</td><td>3.75</td><td>12583</td><td>France        </td></tr>\n",
              "\t<tr><th scope=row>28</th><td>536370</td><td>22727 </td><td>ALARM CLOCK BAKELIKE RED           </td><td>24</td><td>2010-12-01 08:45:00</td><td>3.75</td><td>12583</td><td>France        </td></tr>\n",
              "\t<tr><th scope=row>29</th><td>536370</td><td>22726 </td><td>ALARM CLOCK BAKELIKE GREEN         </td><td>12</td><td>2010-12-01 08:45:00</td><td>3.75</td><td>12583</td><td>France        </td></tr>\n",
              "\t<tr><th scope=row>30</th><td>536370</td><td>21724 </td><td>PANDA AND BUNNIES STICKER SHEET    </td><td>12</td><td>2010-12-01 08:45:00</td><td>0.85</td><td>12583</td><td>France        </td></tr>\n",
              "\t<tr><th scope=row>⋮</th><td>⋮</td><td>⋮</td><td>⋮</td><td>⋮</td><td>⋮</td><td>⋮</td><td>⋮</td><td>⋮</td></tr>\n",
              "\t<tr><th scope=row>541880</th><td>581585</td><td>22726</td><td>ALARM CLOCK BAKELIKE GREEN         </td><td> 8</td><td>2011-12-09 12:31:00</td><td>3.75</td><td>15804</td><td>United Kingdom</td></tr>\n",
              "\t<tr><th scope=row>541881</th><td>581585</td><td>22727</td><td>ALARM CLOCK BAKELIKE RED           </td><td> 4</td><td>2011-12-09 12:31:00</td><td>3.75</td><td>15804</td><td>United Kingdom</td></tr>\n",
              "\t<tr><th scope=row>541882</th><td>581585</td><td>16016</td><td>LARGE CHINESE STYLE SCISSOR        </td><td>10</td><td>2011-12-09 12:31:00</td><td>0.85</td><td>15804</td><td>United Kingdom</td></tr>\n",
              "\t<tr><th scope=row>541883</th><td>581585</td><td>21916</td><td>SET 12 RETRO WHITE CHALK STICKS    </td><td>24</td><td>2011-12-09 12:31:00</td><td>0.42</td><td>15804</td><td>United Kingdom</td></tr>\n",
              "\t<tr><th scope=row>541884</th><td>581585</td><td>84692</td><td>BOX OF 24 COCKTAIL PARASOLS        </td><td>25</td><td>2011-12-09 12:31:00</td><td>0.42</td><td>15804</td><td>United Kingdom</td></tr>\n",
              "\t<tr><th scope=row>541885</th><td>581585</td><td>84946</td><td>ANTIQUE SILVER T-LIGHT GLASS       </td><td>12</td><td>2011-12-09 12:31:00</td><td>1.25</td><td>15804</td><td>United Kingdom</td></tr>\n",
              "\t<tr><th scope=row>541886</th><td>581585</td><td>21684</td><td>SMALL MEDINA STAMPED METAL BOWL    </td><td>12</td><td>2011-12-09 12:31:00</td><td>0.85</td><td>15804</td><td>United Kingdom</td></tr>\n",
              "\t<tr><th scope=row>541887</th><td>581585</td><td>22398</td><td>MAGNETS PACK OF 4 SWALLOWS         </td><td>12</td><td>2011-12-09 12:31:00</td><td>0.39</td><td>15804</td><td>United Kingdom</td></tr>\n",
              "\t<tr><th scope=row>541888</th><td>581585</td><td>23328</td><td>SET 6 SCHOOL MILK BOTTLES IN CRATE </td><td> 4</td><td>2011-12-09 12:31:00</td><td>3.75</td><td>15804</td><td>United Kingdom</td></tr>\n",
              "\t<tr><th scope=row>541889</th><td>581585</td><td>23145</td><td>ZINC T-LIGHT HOLDER STAR LARGE     </td><td>12</td><td>2011-12-09 12:31:00</td><td>0.95</td><td>15804</td><td>United Kingdom</td></tr>\n",
              "\t<tr><th scope=row>541890</th><td>581585</td><td>22466</td><td>FAIRY TALE COTTAGE NIGHT LIGHT     </td><td>12</td><td>2011-12-09 12:31:00</td><td>1.95</td><td>15804</td><td>United Kingdom</td></tr>\n",
              "\t<tr><th scope=row>541891</th><td>581586</td><td>22061</td><td>LARGE CAKE STAND  HANGING STRAWBERY</td><td> 8</td><td>2011-12-09 12:49:00</td><td>2.95</td><td>13113</td><td>United Kingdom</td></tr>\n",
              "\t<tr><th scope=row>541892</th><td>581586</td><td>23275</td><td>SET OF 3 HANGING OWLS OLLIE BEAK   </td><td>24</td><td>2011-12-09 12:49:00</td><td>1.25</td><td>13113</td><td>United Kingdom</td></tr>\n",
              "\t<tr><th scope=row>541893</th><td>581586</td><td>21217</td><td>RED RETROSPOT ROUND CAKE TINS      </td><td>24</td><td>2011-12-09 12:49:00</td><td>8.95</td><td>13113</td><td>United Kingdom</td></tr>\n",
              "\t<tr><th scope=row>541894</th><td>581586</td><td>20685</td><td>DOORMAT RED RETROSPOT              </td><td>10</td><td>2011-12-09 12:49:00</td><td>7.08</td><td>13113</td><td>United Kingdom</td></tr>\n",
              "\t<tr><th scope=row>541895</th><td>581587</td><td>22631</td><td>CIRCUS PARADE LUNCH BOX            </td><td>12</td><td>2011-12-09 12:50:00</td><td>1.95</td><td>12680</td><td>France        </td></tr>\n",
              "\t<tr><th scope=row>541896</th><td>581587</td><td>22556</td><td>PLASTERS IN TIN CIRCUS PARADE      </td><td>12</td><td>2011-12-09 12:50:00</td><td>1.65</td><td>12680</td><td>France        </td></tr>\n",
              "\t<tr><th scope=row>541897</th><td>581587</td><td>22555</td><td>PLASTERS IN TIN STRONGMAN          </td><td>12</td><td>2011-12-09 12:50:00</td><td>1.65</td><td>12680</td><td>France        </td></tr>\n",
              "\t<tr><th scope=row>541898</th><td>581587</td><td>22728</td><td>ALARM CLOCK BAKELIKE PINK          </td><td> 4</td><td>2011-12-09 12:50:00</td><td>3.75</td><td>12680</td><td>France        </td></tr>\n",
              "\t<tr><th scope=row>541899</th><td>581587</td><td>22727</td><td>ALARM CLOCK BAKELIKE RED           </td><td> 4</td><td>2011-12-09 12:50:00</td><td>3.75</td><td>12680</td><td>France        </td></tr>\n",
              "\t<tr><th scope=row>541900</th><td>581587</td><td>22726</td><td>ALARM CLOCK BAKELIKE GREEN         </td><td> 4</td><td>2011-12-09 12:50:00</td><td>3.75</td><td>12680</td><td>France        </td></tr>\n",
              "\t<tr><th scope=row>541901</th><td>581587</td><td>22730</td><td>ALARM CLOCK BAKELIKE IVORY         </td><td> 4</td><td>2011-12-09 12:50:00</td><td>3.75</td><td>12680</td><td>France        </td></tr>\n",
              "\t<tr><th scope=row>541902</th><td>581587</td><td>22367</td><td>CHILDRENS APRON SPACEBOY DESIGN    </td><td> 8</td><td>2011-12-09 12:50:00</td><td>1.95</td><td>12680</td><td>France        </td></tr>\n",
              "\t<tr><th scope=row>541903</th><td>581587</td><td>22629</td><td>SPACEBOY LUNCH BOX                 </td><td>12</td><td>2011-12-09 12:50:00</td><td>1.95</td><td>12680</td><td>France        </td></tr>\n",
              "\t<tr><th scope=row>541904</th><td>581587</td><td>23256</td><td>CHILDRENS CUTLERY SPACEBOY         </td><td> 4</td><td>2011-12-09 12:50:00</td><td>4.15</td><td>12680</td><td>France        </td></tr>\n",
              "\t<tr><th scope=row>541905</th><td>581587</td><td>22613</td><td>PACK OF 20 SPACEBOY NAPKINS        </td><td>12</td><td>2011-12-09 12:50:00</td><td>0.85</td><td>12680</td><td>France        </td></tr>\n",
              "\t<tr><th scope=row>541906</th><td>581587</td><td>22899</td><td>CHILDREN'S APRON DOLLY GIRL        </td><td> 6</td><td>2011-12-09 12:50:00</td><td>2.10</td><td>12680</td><td>France        </td></tr>\n",
              "\t<tr><th scope=row>541907</th><td>581587</td><td>23254</td><td>CHILDRENS CUTLERY DOLLY GIRL       </td><td> 4</td><td>2011-12-09 12:50:00</td><td>4.15</td><td>12680</td><td>France        </td></tr>\n",
              "\t<tr><th scope=row>541908</th><td>581587</td><td>23255</td><td>CHILDRENS CUTLERY CIRCUS PARADE    </td><td> 4</td><td>2011-12-09 12:50:00</td><td>4.15</td><td>12680</td><td>France        </td></tr>\n",
              "\t<tr><th scope=row>541909</th><td>581587</td><td>22138</td><td>BAKING SET 9 PIECE RETROSPOT       </td><td> 3</td><td>2011-12-09 12:50:00</td><td>4.95</td><td>12680</td><td>France        </td></tr>\n",
              "</tbody>\n",
              "</table>\n"
            ],
            "text/latex": [
              "A data.frame: 401604 × 8\n",
              "\\begin{tabular}{r|llllllll}\n",
              "  & InvoiceNo & StockCode & Description & Quantity & InvoiceDate & UnitPrice & CustomerID & Country\\\\\n",
              "  & <chr> & <chr> & <chr> & <int> & <chr> & <dbl> & <dbl> & <chr>\\\\\n",
              "\\hline\n",
              "\t1 & 536365 & 85123A & WHITE HANGING HEART T-LIGHT HOLDER  &  6 & 2010-12-01 08:26:00 & 2.55 & 17850 & United Kingdom\\\\\n",
              "\t2 & 536365 & 71053  & WHITE METAL LANTERN                 &  6 & 2010-12-01 08:26:00 & 3.39 & 17850 & United Kingdom\\\\\n",
              "\t3 & 536365 & 84406B & CREAM CUPID HEARTS COAT HANGER      &  8 & 2010-12-01 08:26:00 & 2.75 & 17850 & United Kingdom\\\\\n",
              "\t4 & 536365 & 84029G & KNITTED UNION FLAG HOT WATER BOTTLE &  6 & 2010-12-01 08:26:00 & 3.39 & 17850 & United Kingdom\\\\\n",
              "\t5 & 536365 & 84029E & RED WOOLLY HOTTIE WHITE HEART.      &  6 & 2010-12-01 08:26:00 & 3.39 & 17850 & United Kingdom\\\\\n",
              "\t6 & 536365 & 22752  & SET 7 BABUSHKA NESTING BOXES        &  2 & 2010-12-01 08:26:00 & 7.65 & 17850 & United Kingdom\\\\\n",
              "\t7 & 536365 & 21730  & GLASS STAR FROSTED T-LIGHT HOLDER   &  6 & 2010-12-01 08:26:00 & 4.25 & 17850 & United Kingdom\\\\\n",
              "\t8 & 536366 & 22633  & HAND WARMER UNION JACK              &  6 & 2010-12-01 08:28:00 & 1.85 & 17850 & United Kingdom\\\\\n",
              "\t9 & 536366 & 22632  & HAND WARMER RED POLKA DOT           &  6 & 2010-12-01 08:28:00 & 1.85 & 17850 & United Kingdom\\\\\n",
              "\t10 & 536367 & 84879  & ASSORTED COLOUR BIRD ORNAMENT       & 32 & 2010-12-01 08:34:00 & 1.69 & 13047 & United Kingdom\\\\\n",
              "\t11 & 536367 & 22745  & POPPY'S PLAYHOUSE BEDROOM           &  6 & 2010-12-01 08:34:00 & 2.10 & 13047 & United Kingdom\\\\\n",
              "\t12 & 536367 & 22748  & POPPY'S PLAYHOUSE KITCHEN           &  6 & 2010-12-01 08:34:00 & 2.10 & 13047 & United Kingdom\\\\\n",
              "\t13 & 536367 & 22749  & FELTCRAFT PRINCESS CHARLOTTE DOLL   &  8 & 2010-12-01 08:34:00 & 3.75 & 13047 & United Kingdom\\\\\n",
              "\t14 & 536367 & 22310  & IVORY KNITTED MUG COSY              &  6 & 2010-12-01 08:34:00 & 1.65 & 13047 & United Kingdom\\\\\n",
              "\t15 & 536367 & 84969  & BOX OF 6 ASSORTED COLOUR TEASPOONS  &  6 & 2010-12-01 08:34:00 & 4.25 & 13047 & United Kingdom\\\\\n",
              "\t16 & 536367 & 22623  & BOX OF VINTAGE JIGSAW BLOCKS        &  3 & 2010-12-01 08:34:00 & 4.95 & 13047 & United Kingdom\\\\\n",
              "\t17 & 536367 & 22622  & BOX OF VINTAGE ALPHABET BLOCKS      &  2 & 2010-12-01 08:34:00 & 9.95 & 13047 & United Kingdom\\\\\n",
              "\t18 & 536367 & 21754  & HOME BUILDING BLOCK WORD            &  3 & 2010-12-01 08:34:00 & 5.95 & 13047 & United Kingdom\\\\\n",
              "\t19 & 536367 & 21755  & LOVE BUILDING BLOCK WORD            &  3 & 2010-12-01 08:34:00 & 5.95 & 13047 & United Kingdom\\\\\n",
              "\t20 & 536367 & 21777  & RECIPE BOX WITH METAL HEART         &  4 & 2010-12-01 08:34:00 & 7.95 & 13047 & United Kingdom\\\\\n",
              "\t21 & 536367 & 48187  & DOORMAT NEW ENGLAND                 &  4 & 2010-12-01 08:34:00 & 7.95 & 13047 & United Kingdom\\\\\n",
              "\t22 & 536368 & 22960  & JAM MAKING SET WITH JARS            &  6 & 2010-12-01 08:34:00 & 4.25 & 13047 & United Kingdom\\\\\n",
              "\t23 & 536368 & 22913  & RED COAT RACK PARIS FASHION         &  3 & 2010-12-01 08:34:00 & 4.95 & 13047 & United Kingdom\\\\\n",
              "\t24 & 536368 & 22912  & YELLOW COAT RACK PARIS FASHION      &  3 & 2010-12-01 08:34:00 & 4.95 & 13047 & United Kingdom\\\\\n",
              "\t25 & 536368 & 22914  & BLUE COAT RACK PARIS FASHION        &  3 & 2010-12-01 08:34:00 & 4.95 & 13047 & United Kingdom\\\\\n",
              "\t26 & 536369 & 21756  & BATH BUILDING BLOCK WORD            &  3 & 2010-12-01 08:35:00 & 5.95 & 13047 & United Kingdom\\\\\n",
              "\t27 & 536370 & 22728  & ALARM CLOCK BAKELIKE PINK           & 24 & 2010-12-01 08:45:00 & 3.75 & 12583 & France        \\\\\n",
              "\t28 & 536370 & 22727  & ALARM CLOCK BAKELIKE RED            & 24 & 2010-12-01 08:45:00 & 3.75 & 12583 & France        \\\\\n",
              "\t29 & 536370 & 22726  & ALARM CLOCK BAKELIKE GREEN          & 12 & 2010-12-01 08:45:00 & 3.75 & 12583 & France        \\\\\n",
              "\t30 & 536370 & 21724  & PANDA AND BUNNIES STICKER SHEET     & 12 & 2010-12-01 08:45:00 & 0.85 & 12583 & France        \\\\\n",
              "\t⋮ & ⋮ & ⋮ & ⋮ & ⋮ & ⋮ & ⋮ & ⋮ & ⋮\\\\\n",
              "\t541880 & 581585 & 22726 & ALARM CLOCK BAKELIKE GREEN          &  8 & 2011-12-09 12:31:00 & 3.75 & 15804 & United Kingdom\\\\\n",
              "\t541881 & 581585 & 22727 & ALARM CLOCK BAKELIKE RED            &  4 & 2011-12-09 12:31:00 & 3.75 & 15804 & United Kingdom\\\\\n",
              "\t541882 & 581585 & 16016 & LARGE CHINESE STYLE SCISSOR         & 10 & 2011-12-09 12:31:00 & 0.85 & 15804 & United Kingdom\\\\\n",
              "\t541883 & 581585 & 21916 & SET 12 RETRO WHITE CHALK STICKS     & 24 & 2011-12-09 12:31:00 & 0.42 & 15804 & United Kingdom\\\\\n",
              "\t541884 & 581585 & 84692 & BOX OF 24 COCKTAIL PARASOLS         & 25 & 2011-12-09 12:31:00 & 0.42 & 15804 & United Kingdom\\\\\n",
              "\t541885 & 581585 & 84946 & ANTIQUE SILVER T-LIGHT GLASS        & 12 & 2011-12-09 12:31:00 & 1.25 & 15804 & United Kingdom\\\\\n",
              "\t541886 & 581585 & 21684 & SMALL MEDINA STAMPED METAL BOWL     & 12 & 2011-12-09 12:31:00 & 0.85 & 15804 & United Kingdom\\\\\n",
              "\t541887 & 581585 & 22398 & MAGNETS PACK OF 4 SWALLOWS          & 12 & 2011-12-09 12:31:00 & 0.39 & 15804 & United Kingdom\\\\\n",
              "\t541888 & 581585 & 23328 & SET 6 SCHOOL MILK BOTTLES IN CRATE  &  4 & 2011-12-09 12:31:00 & 3.75 & 15804 & United Kingdom\\\\\n",
              "\t541889 & 581585 & 23145 & ZINC T-LIGHT HOLDER STAR LARGE      & 12 & 2011-12-09 12:31:00 & 0.95 & 15804 & United Kingdom\\\\\n",
              "\t541890 & 581585 & 22466 & FAIRY TALE COTTAGE NIGHT LIGHT      & 12 & 2011-12-09 12:31:00 & 1.95 & 15804 & United Kingdom\\\\\n",
              "\t541891 & 581586 & 22061 & LARGE CAKE STAND  HANGING STRAWBERY &  8 & 2011-12-09 12:49:00 & 2.95 & 13113 & United Kingdom\\\\\n",
              "\t541892 & 581586 & 23275 & SET OF 3 HANGING OWLS OLLIE BEAK    & 24 & 2011-12-09 12:49:00 & 1.25 & 13113 & United Kingdom\\\\\n",
              "\t541893 & 581586 & 21217 & RED RETROSPOT ROUND CAKE TINS       & 24 & 2011-12-09 12:49:00 & 8.95 & 13113 & United Kingdom\\\\\n",
              "\t541894 & 581586 & 20685 & DOORMAT RED RETROSPOT               & 10 & 2011-12-09 12:49:00 & 7.08 & 13113 & United Kingdom\\\\\n",
              "\t541895 & 581587 & 22631 & CIRCUS PARADE LUNCH BOX             & 12 & 2011-12-09 12:50:00 & 1.95 & 12680 & France        \\\\\n",
              "\t541896 & 581587 & 22556 & PLASTERS IN TIN CIRCUS PARADE       & 12 & 2011-12-09 12:50:00 & 1.65 & 12680 & France        \\\\\n",
              "\t541897 & 581587 & 22555 & PLASTERS IN TIN STRONGMAN           & 12 & 2011-12-09 12:50:00 & 1.65 & 12680 & France        \\\\\n",
              "\t541898 & 581587 & 22728 & ALARM CLOCK BAKELIKE PINK           &  4 & 2011-12-09 12:50:00 & 3.75 & 12680 & France        \\\\\n",
              "\t541899 & 581587 & 22727 & ALARM CLOCK BAKELIKE RED            &  4 & 2011-12-09 12:50:00 & 3.75 & 12680 & France        \\\\\n",
              "\t541900 & 581587 & 22726 & ALARM CLOCK BAKELIKE GREEN          &  4 & 2011-12-09 12:50:00 & 3.75 & 12680 & France        \\\\\n",
              "\t541901 & 581587 & 22730 & ALARM CLOCK BAKELIKE IVORY          &  4 & 2011-12-09 12:50:00 & 3.75 & 12680 & France        \\\\\n",
              "\t541902 & 581587 & 22367 & CHILDRENS APRON SPACEBOY DESIGN     &  8 & 2011-12-09 12:50:00 & 1.95 & 12680 & France        \\\\\n",
              "\t541903 & 581587 & 22629 & SPACEBOY LUNCH BOX                  & 12 & 2011-12-09 12:50:00 & 1.95 & 12680 & France        \\\\\n",
              "\t541904 & 581587 & 23256 & CHILDRENS CUTLERY SPACEBOY          &  4 & 2011-12-09 12:50:00 & 4.15 & 12680 & France        \\\\\n",
              "\t541905 & 581587 & 22613 & PACK OF 20 SPACEBOY NAPKINS         & 12 & 2011-12-09 12:50:00 & 0.85 & 12680 & France        \\\\\n",
              "\t541906 & 581587 & 22899 & CHILDREN'S APRON DOLLY GIRL         &  6 & 2011-12-09 12:50:00 & 2.10 & 12680 & France        \\\\\n",
              "\t541907 & 581587 & 23254 & CHILDRENS CUTLERY DOLLY GIRL        &  4 & 2011-12-09 12:50:00 & 4.15 & 12680 & France        \\\\\n",
              "\t541908 & 581587 & 23255 & CHILDRENS CUTLERY CIRCUS PARADE     &  4 & 2011-12-09 12:50:00 & 4.15 & 12680 & France        \\\\\n",
              "\t541909 & 581587 & 22138 & BAKING SET 9 PIECE RETROSPOT        &  3 & 2011-12-09 12:50:00 & 4.95 & 12680 & France        \\\\\n",
              "\\end{tabular}\n"
            ],
            "text/markdown": [
              "\n",
              "A data.frame: 401604 × 8\n",
              "\n",
              "| <!--/--> | InvoiceNo &lt;chr&gt; | StockCode &lt;chr&gt; | Description &lt;chr&gt; | Quantity &lt;int&gt; | InvoiceDate &lt;chr&gt; | UnitPrice &lt;dbl&gt; | CustomerID &lt;dbl&gt; | Country &lt;chr&gt; |\n",
              "|---|---|---|---|---|---|---|---|---|\n",
              "| 1 | 536365 | 85123A | WHITE HANGING HEART T-LIGHT HOLDER  |  6 | 2010-12-01 08:26:00 | 2.55 | 17850 | United Kingdom |\n",
              "| 2 | 536365 | 71053  | WHITE METAL LANTERN                 |  6 | 2010-12-01 08:26:00 | 3.39 | 17850 | United Kingdom |\n",
              "| 3 | 536365 | 84406B | CREAM CUPID HEARTS COAT HANGER      |  8 | 2010-12-01 08:26:00 | 2.75 | 17850 | United Kingdom |\n",
              "| 4 | 536365 | 84029G | KNITTED UNION FLAG HOT WATER BOTTLE |  6 | 2010-12-01 08:26:00 | 3.39 | 17850 | United Kingdom |\n",
              "| 5 | 536365 | 84029E | RED WOOLLY HOTTIE WHITE HEART.      |  6 | 2010-12-01 08:26:00 | 3.39 | 17850 | United Kingdom |\n",
              "| 6 | 536365 | 22752  | SET 7 BABUSHKA NESTING BOXES        |  2 | 2010-12-01 08:26:00 | 7.65 | 17850 | United Kingdom |\n",
              "| 7 | 536365 | 21730  | GLASS STAR FROSTED T-LIGHT HOLDER   |  6 | 2010-12-01 08:26:00 | 4.25 | 17850 | United Kingdom |\n",
              "| 8 | 536366 | 22633  | HAND WARMER UNION JACK              |  6 | 2010-12-01 08:28:00 | 1.85 | 17850 | United Kingdom |\n",
              "| 9 | 536366 | 22632  | HAND WARMER RED POLKA DOT           |  6 | 2010-12-01 08:28:00 | 1.85 | 17850 | United Kingdom |\n",
              "| 10 | 536367 | 84879  | ASSORTED COLOUR BIRD ORNAMENT       | 32 | 2010-12-01 08:34:00 | 1.69 | 13047 | United Kingdom |\n",
              "| 11 | 536367 | 22745  | POPPY'S PLAYHOUSE BEDROOM           |  6 | 2010-12-01 08:34:00 | 2.10 | 13047 | United Kingdom |\n",
              "| 12 | 536367 | 22748  | POPPY'S PLAYHOUSE KITCHEN           |  6 | 2010-12-01 08:34:00 | 2.10 | 13047 | United Kingdom |\n",
              "| 13 | 536367 | 22749  | FELTCRAFT PRINCESS CHARLOTTE DOLL   |  8 | 2010-12-01 08:34:00 | 3.75 | 13047 | United Kingdom |\n",
              "| 14 | 536367 | 22310  | IVORY KNITTED MUG COSY              |  6 | 2010-12-01 08:34:00 | 1.65 | 13047 | United Kingdom |\n",
              "| 15 | 536367 | 84969  | BOX OF 6 ASSORTED COLOUR TEASPOONS  |  6 | 2010-12-01 08:34:00 | 4.25 | 13047 | United Kingdom |\n",
              "| 16 | 536367 | 22623  | BOX OF VINTAGE JIGSAW BLOCKS        |  3 | 2010-12-01 08:34:00 | 4.95 | 13047 | United Kingdom |\n",
              "| 17 | 536367 | 22622  | BOX OF VINTAGE ALPHABET BLOCKS      |  2 | 2010-12-01 08:34:00 | 9.95 | 13047 | United Kingdom |\n",
              "| 18 | 536367 | 21754  | HOME BUILDING BLOCK WORD            |  3 | 2010-12-01 08:34:00 | 5.95 | 13047 | United Kingdom |\n",
              "| 19 | 536367 | 21755  | LOVE BUILDING BLOCK WORD            |  3 | 2010-12-01 08:34:00 | 5.95 | 13047 | United Kingdom |\n",
              "| 20 | 536367 | 21777  | RECIPE BOX WITH METAL HEART         |  4 | 2010-12-01 08:34:00 | 7.95 | 13047 | United Kingdom |\n",
              "| 21 | 536367 | 48187  | DOORMAT NEW ENGLAND                 |  4 | 2010-12-01 08:34:00 | 7.95 | 13047 | United Kingdom |\n",
              "| 22 | 536368 | 22960  | JAM MAKING SET WITH JARS            |  6 | 2010-12-01 08:34:00 | 4.25 | 13047 | United Kingdom |\n",
              "| 23 | 536368 | 22913  | RED COAT RACK PARIS FASHION         |  3 | 2010-12-01 08:34:00 | 4.95 | 13047 | United Kingdom |\n",
              "| 24 | 536368 | 22912  | YELLOW COAT RACK PARIS FASHION      |  3 | 2010-12-01 08:34:00 | 4.95 | 13047 | United Kingdom |\n",
              "| 25 | 536368 | 22914  | BLUE COAT RACK PARIS FASHION        |  3 | 2010-12-01 08:34:00 | 4.95 | 13047 | United Kingdom |\n",
              "| 26 | 536369 | 21756  | BATH BUILDING BLOCK WORD            |  3 | 2010-12-01 08:35:00 | 5.95 | 13047 | United Kingdom |\n",
              "| 27 | 536370 | 22728  | ALARM CLOCK BAKELIKE PINK           | 24 | 2010-12-01 08:45:00 | 3.75 | 12583 | France         |\n",
              "| 28 | 536370 | 22727  | ALARM CLOCK BAKELIKE RED            | 24 | 2010-12-01 08:45:00 | 3.75 | 12583 | France         |\n",
              "| 29 | 536370 | 22726  | ALARM CLOCK BAKELIKE GREEN          | 12 | 2010-12-01 08:45:00 | 3.75 | 12583 | France         |\n",
              "| 30 | 536370 | 21724  | PANDA AND BUNNIES STICKER SHEET     | 12 | 2010-12-01 08:45:00 | 0.85 | 12583 | France         |\n",
              "| ⋮ | ⋮ | ⋮ | ⋮ | ⋮ | ⋮ | ⋮ | ⋮ | ⋮ |\n",
              "| 541880 | 581585 | 22726 | ALARM CLOCK BAKELIKE GREEN          |  8 | 2011-12-09 12:31:00 | 3.75 | 15804 | United Kingdom |\n",
              "| 541881 | 581585 | 22727 | ALARM CLOCK BAKELIKE RED            |  4 | 2011-12-09 12:31:00 | 3.75 | 15804 | United Kingdom |\n",
              "| 541882 | 581585 | 16016 | LARGE CHINESE STYLE SCISSOR         | 10 | 2011-12-09 12:31:00 | 0.85 | 15804 | United Kingdom |\n",
              "| 541883 | 581585 | 21916 | SET 12 RETRO WHITE CHALK STICKS     | 24 | 2011-12-09 12:31:00 | 0.42 | 15804 | United Kingdom |\n",
              "| 541884 | 581585 | 84692 | BOX OF 24 COCKTAIL PARASOLS         | 25 | 2011-12-09 12:31:00 | 0.42 | 15804 | United Kingdom |\n",
              "| 541885 | 581585 | 84946 | ANTIQUE SILVER T-LIGHT GLASS        | 12 | 2011-12-09 12:31:00 | 1.25 | 15804 | United Kingdom |\n",
              "| 541886 | 581585 | 21684 | SMALL MEDINA STAMPED METAL BOWL     | 12 | 2011-12-09 12:31:00 | 0.85 | 15804 | United Kingdom |\n",
              "| 541887 | 581585 | 22398 | MAGNETS PACK OF 4 SWALLOWS          | 12 | 2011-12-09 12:31:00 | 0.39 | 15804 | United Kingdom |\n",
              "| 541888 | 581585 | 23328 | SET 6 SCHOOL MILK BOTTLES IN CRATE  |  4 | 2011-12-09 12:31:00 | 3.75 | 15804 | United Kingdom |\n",
              "| 541889 | 581585 | 23145 | ZINC T-LIGHT HOLDER STAR LARGE      | 12 | 2011-12-09 12:31:00 | 0.95 | 15804 | United Kingdom |\n",
              "| 541890 | 581585 | 22466 | FAIRY TALE COTTAGE NIGHT LIGHT      | 12 | 2011-12-09 12:31:00 | 1.95 | 15804 | United Kingdom |\n",
              "| 541891 | 581586 | 22061 | LARGE CAKE STAND  HANGING STRAWBERY |  8 | 2011-12-09 12:49:00 | 2.95 | 13113 | United Kingdom |\n",
              "| 541892 | 581586 | 23275 | SET OF 3 HANGING OWLS OLLIE BEAK    | 24 | 2011-12-09 12:49:00 | 1.25 | 13113 | United Kingdom |\n",
              "| 541893 | 581586 | 21217 | RED RETROSPOT ROUND CAKE TINS       | 24 | 2011-12-09 12:49:00 | 8.95 | 13113 | United Kingdom |\n",
              "| 541894 | 581586 | 20685 | DOORMAT RED RETROSPOT               | 10 | 2011-12-09 12:49:00 | 7.08 | 13113 | United Kingdom |\n",
              "| 541895 | 581587 | 22631 | CIRCUS PARADE LUNCH BOX             | 12 | 2011-12-09 12:50:00 | 1.95 | 12680 | France         |\n",
              "| 541896 | 581587 | 22556 | PLASTERS IN TIN CIRCUS PARADE       | 12 | 2011-12-09 12:50:00 | 1.65 | 12680 | France         |\n",
              "| 541897 | 581587 | 22555 | PLASTERS IN TIN STRONGMAN           | 12 | 2011-12-09 12:50:00 | 1.65 | 12680 | France         |\n",
              "| 541898 | 581587 | 22728 | ALARM CLOCK BAKELIKE PINK           |  4 | 2011-12-09 12:50:00 | 3.75 | 12680 | France         |\n",
              "| 541899 | 581587 | 22727 | ALARM CLOCK BAKELIKE RED            |  4 | 2011-12-09 12:50:00 | 3.75 | 12680 | France         |\n",
              "| 541900 | 581587 | 22726 | ALARM CLOCK BAKELIKE GREEN          |  4 | 2011-12-09 12:50:00 | 3.75 | 12680 | France         |\n",
              "| 541901 | 581587 | 22730 | ALARM CLOCK BAKELIKE IVORY          |  4 | 2011-12-09 12:50:00 | 3.75 | 12680 | France         |\n",
              "| 541902 | 581587 | 22367 | CHILDRENS APRON SPACEBOY DESIGN     |  8 | 2011-12-09 12:50:00 | 1.95 | 12680 | France         |\n",
              "| 541903 | 581587 | 22629 | SPACEBOY LUNCH BOX                  | 12 | 2011-12-09 12:50:00 | 1.95 | 12680 | France         |\n",
              "| 541904 | 581587 | 23256 | CHILDRENS CUTLERY SPACEBOY          |  4 | 2011-12-09 12:50:00 | 4.15 | 12680 | France         |\n",
              "| 541905 | 581587 | 22613 | PACK OF 20 SPACEBOY NAPKINS         | 12 | 2011-12-09 12:50:00 | 0.85 | 12680 | France         |\n",
              "| 541906 | 581587 | 22899 | CHILDREN'S APRON DOLLY GIRL         |  6 | 2011-12-09 12:50:00 | 2.10 | 12680 | France         |\n",
              "| 541907 | 581587 | 23254 | CHILDRENS CUTLERY DOLLY GIRL        |  4 | 2011-12-09 12:50:00 | 4.15 | 12680 | France         |\n",
              "| 541908 | 581587 | 23255 | CHILDRENS CUTLERY CIRCUS PARADE     |  4 | 2011-12-09 12:50:00 | 4.15 | 12680 | France         |\n",
              "| 541909 | 581587 | 22138 | BAKING SET 9 PIECE RETROSPOT        |  3 | 2011-12-09 12:50:00 | 4.95 | 12680 | France         |\n",
              "\n"
            ],
            "text/plain": [
              "       InvoiceNo StockCode Description                         Quantity\n",
              "1      536365    85123A    WHITE HANGING HEART T-LIGHT HOLDER   6      \n",
              "2      536365    71053     WHITE METAL LANTERN                  6      \n",
              "3      536365    84406B    CREAM CUPID HEARTS COAT HANGER       8      \n",
              "4      536365    84029G    KNITTED UNION FLAG HOT WATER BOTTLE  6      \n",
              "5      536365    84029E    RED WOOLLY HOTTIE WHITE HEART.       6      \n",
              "6      536365    22752     SET 7 BABUSHKA NESTING BOXES         2      \n",
              "7      536365    21730     GLASS STAR FROSTED T-LIGHT HOLDER    6      \n",
              "8      536366    22633     HAND WARMER UNION JACK               6      \n",
              "9      536366    22632     HAND WARMER RED POLKA DOT            6      \n",
              "10     536367    84879     ASSORTED COLOUR BIRD ORNAMENT       32      \n",
              "11     536367    22745     POPPY'S PLAYHOUSE BEDROOM            6      \n",
              "12     536367    22748     POPPY'S PLAYHOUSE KITCHEN            6      \n",
              "13     536367    22749     FELTCRAFT PRINCESS CHARLOTTE DOLL    8      \n",
              "14     536367    22310     IVORY KNITTED MUG COSY               6      \n",
              "15     536367    84969     BOX OF 6 ASSORTED COLOUR TEASPOONS   6      \n",
              "16     536367    22623     BOX OF VINTAGE JIGSAW BLOCKS         3      \n",
              "17     536367    22622     BOX OF VINTAGE ALPHABET BLOCKS       2      \n",
              "18     536367    21754     HOME BUILDING BLOCK WORD             3      \n",
              "19     536367    21755     LOVE BUILDING BLOCK WORD             3      \n",
              "20     536367    21777     RECIPE BOX WITH METAL HEART          4      \n",
              "21     536367    48187     DOORMAT NEW ENGLAND                  4      \n",
              "22     536368    22960     JAM MAKING SET WITH JARS             6      \n",
              "23     536368    22913     RED COAT RACK PARIS FASHION          3      \n",
              "24     536368    22912     YELLOW COAT RACK PARIS FASHION       3      \n",
              "25     536368    22914     BLUE COAT RACK PARIS FASHION         3      \n",
              "26     536369    21756     BATH BUILDING BLOCK WORD             3      \n",
              "27     536370    22728     ALARM CLOCK BAKELIKE PINK           24      \n",
              "28     536370    22727     ALARM CLOCK BAKELIKE RED            24      \n",
              "29     536370    22726     ALARM CLOCK BAKELIKE GREEN          12      \n",
              "30     536370    21724     PANDA AND BUNNIES STICKER SHEET     12      \n",
              "⋮      ⋮         ⋮         ⋮                                   ⋮       \n",
              "541880 581585    22726     ALARM CLOCK BAKELIKE GREEN           8      \n",
              "541881 581585    22727     ALARM CLOCK BAKELIKE RED             4      \n",
              "541882 581585    16016     LARGE CHINESE STYLE SCISSOR         10      \n",
              "541883 581585    21916     SET 12 RETRO WHITE CHALK STICKS     24      \n",
              "541884 581585    84692     BOX OF 24 COCKTAIL PARASOLS         25      \n",
              "541885 581585    84946     ANTIQUE SILVER T-LIGHT GLASS        12      \n",
              "541886 581585    21684     SMALL MEDINA STAMPED METAL BOWL     12      \n",
              "541887 581585    22398     MAGNETS PACK OF 4 SWALLOWS          12      \n",
              "541888 581585    23328     SET 6 SCHOOL MILK BOTTLES IN CRATE   4      \n",
              "541889 581585    23145     ZINC T-LIGHT HOLDER STAR LARGE      12      \n",
              "541890 581585    22466     FAIRY TALE COTTAGE NIGHT LIGHT      12      \n",
              "541891 581586    22061     LARGE CAKE STAND  HANGING STRAWBERY  8      \n",
              "541892 581586    23275     SET OF 3 HANGING OWLS OLLIE BEAK    24      \n",
              "541893 581586    21217     RED RETROSPOT ROUND CAKE TINS       24      \n",
              "541894 581586    20685     DOORMAT RED RETROSPOT               10      \n",
              "541895 581587    22631     CIRCUS PARADE LUNCH BOX             12      \n",
              "541896 581587    22556     PLASTERS IN TIN CIRCUS PARADE       12      \n",
              "541897 581587    22555     PLASTERS IN TIN STRONGMAN           12      \n",
              "541898 581587    22728     ALARM CLOCK BAKELIKE PINK            4      \n",
              "541899 581587    22727     ALARM CLOCK BAKELIKE RED             4      \n",
              "541900 581587    22726     ALARM CLOCK BAKELIKE GREEN           4      \n",
              "541901 581587    22730     ALARM CLOCK BAKELIKE IVORY           4      \n",
              "541902 581587    22367     CHILDRENS APRON SPACEBOY DESIGN      8      \n",
              "541903 581587    22629     SPACEBOY LUNCH BOX                  12      \n",
              "541904 581587    23256     CHILDRENS CUTLERY SPACEBOY           4      \n",
              "541905 581587    22613     PACK OF 20 SPACEBOY NAPKINS         12      \n",
              "541906 581587    22899     CHILDREN'S APRON DOLLY GIRL          6      \n",
              "541907 581587    23254     CHILDRENS CUTLERY DOLLY GIRL         4      \n",
              "541908 581587    23255     CHILDRENS CUTLERY CIRCUS PARADE      4      \n",
              "541909 581587    22138     BAKING SET 9 PIECE RETROSPOT         3      \n",
              "       InvoiceDate         UnitPrice CustomerID Country       \n",
              "1      2010-12-01 08:26:00 2.55      17850      United Kingdom\n",
              "2      2010-12-01 08:26:00 3.39      17850      United Kingdom\n",
              "3      2010-12-01 08:26:00 2.75      17850      United Kingdom\n",
              "4      2010-12-01 08:26:00 3.39      17850      United Kingdom\n",
              "5      2010-12-01 08:26:00 3.39      17850      United Kingdom\n",
              "6      2010-12-01 08:26:00 7.65      17850      United Kingdom\n",
              "7      2010-12-01 08:26:00 4.25      17850      United Kingdom\n",
              "8      2010-12-01 08:28:00 1.85      17850      United Kingdom\n",
              "9      2010-12-01 08:28:00 1.85      17850      United Kingdom\n",
              "10     2010-12-01 08:34:00 1.69      13047      United Kingdom\n",
              "11     2010-12-01 08:34:00 2.10      13047      United Kingdom\n",
              "12     2010-12-01 08:34:00 2.10      13047      United Kingdom\n",
              "13     2010-12-01 08:34:00 3.75      13047      United Kingdom\n",
              "14     2010-12-01 08:34:00 1.65      13047      United Kingdom\n",
              "15     2010-12-01 08:34:00 4.25      13047      United Kingdom\n",
              "16     2010-12-01 08:34:00 4.95      13047      United Kingdom\n",
              "17     2010-12-01 08:34:00 9.95      13047      United Kingdom\n",
              "18     2010-12-01 08:34:00 5.95      13047      United Kingdom\n",
              "19     2010-12-01 08:34:00 5.95      13047      United Kingdom\n",
              "20     2010-12-01 08:34:00 7.95      13047      United Kingdom\n",
              "21     2010-12-01 08:34:00 7.95      13047      United Kingdom\n",
              "22     2010-12-01 08:34:00 4.25      13047      United Kingdom\n",
              "23     2010-12-01 08:34:00 4.95      13047      United Kingdom\n",
              "24     2010-12-01 08:34:00 4.95      13047      United Kingdom\n",
              "25     2010-12-01 08:34:00 4.95      13047      United Kingdom\n",
              "26     2010-12-01 08:35:00 5.95      13047      United Kingdom\n",
              "27     2010-12-01 08:45:00 3.75      12583      France        \n",
              "28     2010-12-01 08:45:00 3.75      12583      France        \n",
              "29     2010-12-01 08:45:00 3.75      12583      France        \n",
              "30     2010-12-01 08:45:00 0.85      12583      France        \n",
              "⋮      ⋮                   ⋮         ⋮          ⋮             \n",
              "541880 2011-12-09 12:31:00 3.75      15804      United Kingdom\n",
              "541881 2011-12-09 12:31:00 3.75      15804      United Kingdom\n",
              "541882 2011-12-09 12:31:00 0.85      15804      United Kingdom\n",
              "541883 2011-12-09 12:31:00 0.42      15804      United Kingdom\n",
              "541884 2011-12-09 12:31:00 0.42      15804      United Kingdom\n",
              "541885 2011-12-09 12:31:00 1.25      15804      United Kingdom\n",
              "541886 2011-12-09 12:31:00 0.85      15804      United Kingdom\n",
              "541887 2011-12-09 12:31:00 0.39      15804      United Kingdom\n",
              "541888 2011-12-09 12:31:00 3.75      15804      United Kingdom\n",
              "541889 2011-12-09 12:31:00 0.95      15804      United Kingdom\n",
              "541890 2011-12-09 12:31:00 1.95      15804      United Kingdom\n",
              "541891 2011-12-09 12:49:00 2.95      13113      United Kingdom\n",
              "541892 2011-12-09 12:49:00 1.25      13113      United Kingdom\n",
              "541893 2011-12-09 12:49:00 8.95      13113      United Kingdom\n",
              "541894 2011-12-09 12:49:00 7.08      13113      United Kingdom\n",
              "541895 2011-12-09 12:50:00 1.95      12680      France        \n",
              "541896 2011-12-09 12:50:00 1.65      12680      France        \n",
              "541897 2011-12-09 12:50:00 1.65      12680      France        \n",
              "541898 2011-12-09 12:50:00 3.75      12680      France        \n",
              "541899 2011-12-09 12:50:00 3.75      12680      France        \n",
              "541900 2011-12-09 12:50:00 3.75      12680      France        \n",
              "541901 2011-12-09 12:50:00 3.75      12680      France        \n",
              "541902 2011-12-09 12:50:00 1.95      12680      France        \n",
              "541903 2011-12-09 12:50:00 1.95      12680      France        \n",
              "541904 2011-12-09 12:50:00 4.15      12680      France        \n",
              "541905 2011-12-09 12:50:00 0.85      12680      France        \n",
              "541906 2011-12-09 12:50:00 2.10      12680      France        \n",
              "541907 2011-12-09 12:50:00 4.15      12680      France        \n",
              "541908 2011-12-09 12:50:00 4.15      12680      France        \n",
              "541909 2011-12-09 12:50:00 4.95      12680      France        "
            ]
          },
          "metadata": {},
          "output_type": "display_data"
        }
      ],
      "source": [
        "data <- read.csv(\"online_retail.csv\", fileEncoding = \"UTF-8-BOM\", na.strings = c(\"NA\",\"N/A\",\"\"))\n",
        "data <- na.omit(data)\n",
        "# sum(duplicated(data))\n",
        "data <- data[!duplicated(data), ]\n",
        "data"
      ]
    },
    {
      "cell_type": "code",
      "execution_count": null,
      "metadata": {
        "colab": {
          "base_uri": "https://localhost:8080/"
        },
        "id": "ftKNn7saiXIQ",
        "outputId": "90977775-27c2-47e9-9ef0-902137cbe66a",
        "vscode": {
          "languageId": "r"
        }
      },
      "outputs": [
        {
          "name": "stderr",
          "output_type": "stream",
          "text": [
            "Installing package into ‘/usr/local/lib/R/site-library’\n",
            "(as ‘lib’ is unspecified)\n",
            "\n",
            "Loading required package: Matrix\n",
            "\n",
            "\n",
            "Attaching package: ‘arules’\n",
            "\n",
            "\n",
            "The following objects are masked from ‘package:base’:\n",
            "\n",
            "    abbreviate, write\n",
            "\n",
            "\n"
          ]
        }
      ],
      "source": [
        "install.packages(\"arules\")\n",
        "library(arules)"
      ]
    },
    {
      "cell_type": "markdown",
      "metadata": {
        "id": "A9VffGTakgdo"
      },
      "source": [
        "# Globally"
      ]
    },
    {
      "cell_type": "code",
      "execution_count": null,
      "metadata": {
        "colab": {
          "base_uri": "https://localhost:8080/",
          "height": 651
        },
        "id": "xkZ7YBovh1_7",
        "outputId": "d1b2054b-6eee-40e5-c2bd-1790544aef91",
        "vscode": {
          "languageId": "r"
        }
      },
      "outputs": [
        {
          "name": "stderr",
          "output_type": "stream",
          "text": [
            "Warning message in asMethod(object):\n",
            "“removing duplicated items in transactions”\n"
          ]
        },
        {
          "name": "stdout",
          "output_type": "stream",
          "text": [
            "Eclat\n",
            "\n",
            "parameter specification:\n",
            " tidLists support minlen maxlen            target  ext\n",
            "    FALSE    0.01      1      5 frequent itemsets TRUE\n",
            "\n",
            "algorithmic control:\n",
            " sparse sort verbose\n",
            "      7   -2    TRUE\n",
            "\n",
            "Absolute minimum support count: 221 \n",
            "\n",
            "create itemset ... \n",
            "set transactions ...[3896 item(s), 22190 transaction(s)] done [0.16s].\n",
            "sorting and recoding items ... [517 item(s)] done [0.01s].\n",
            "creating sparse bit matrix ... [517 row(s), 22190 column(s)] done [0.01s].\n",
            "writing  ... [739 set(s)] done [0.45s].\n",
            "Creating S4 object  ... done [0.00s].\n"
          ]
        },
        {
          "data": {
            "text/html": [
              "<table class=\"dataframe\">\n",
              "<caption>A data.frame: 6 × 3</caption>\n",
              "<thead>\n",
              "\t<tr><th></th><th scope=col>items</th><th scope=col>support</th><th scope=col>count</th></tr>\n",
              "\t<tr><th></th><th scope=col>&lt;chr&gt;</th><th scope=col>&lt;dbl&gt;</th><th scope=col>&lt;int&gt;</th></tr>\n",
              "</thead>\n",
              "<tbody>\n",
              "\t<tr><th scope=row>223</th><td>{WHITE HANGING HEART T-LIGHT HOLDER}</td><td>0.09071654</td><td>2013</td></tr>\n",
              "\t<tr><th scope=row>224</th><td>{REGENCY CAKESTAND 3 TIER}          </td><td>0.08490311</td><td>1884</td></tr>\n",
              "\t<tr><th scope=row>226</th><td>{JUMBO BAG RED RETROSPOT}           </td><td>0.07404236</td><td>1643</td></tr>\n",
              "\t<tr><th scope=row>230</th><td>{PARTY BUNTING}                     </td><td>0.06304642</td><td>1399</td></tr>\n",
              "\t<tr><th scope=row>232</th><td>{ASSORTED COLOUR BIRD ORNAMENT}     </td><td>0.06241550</td><td>1385</td></tr>\n",
              "\t<tr><th scope=row>225</th><td>{LUNCH BAG RED RETROSPOT}           </td><td>0.05989184</td><td>1329</td></tr>\n",
              "</tbody>\n",
              "</table>\n"
            ],
            "text/latex": [
              "A data.frame: 6 × 3\n",
              "\\begin{tabular}{r|lll}\n",
              "  & items & support & count\\\\\n",
              "  & <chr> & <dbl> & <int>\\\\\n",
              "\\hline\n",
              "\t223 & \\{WHITE HANGING HEART T-LIGHT HOLDER\\} & 0.09071654 & 2013\\\\\n",
              "\t224 & \\{REGENCY CAKESTAND 3 TIER\\}           & 0.08490311 & 1884\\\\\n",
              "\t226 & \\{JUMBO BAG RED RETROSPOT\\}            & 0.07404236 & 1643\\\\\n",
              "\t230 & \\{PARTY BUNTING\\}                      & 0.06304642 & 1399\\\\\n",
              "\t232 & \\{ASSORTED COLOUR BIRD ORNAMENT\\}      & 0.06241550 & 1385\\\\\n",
              "\t225 & \\{LUNCH BAG RED RETROSPOT\\}            & 0.05989184 & 1329\\\\\n",
              "\\end{tabular}\n"
            ],
            "text/markdown": [
              "\n",
              "A data.frame: 6 × 3\n",
              "\n",
              "| <!--/--> | items &lt;chr&gt; | support &lt;dbl&gt; | count &lt;int&gt; |\n",
              "|---|---|---|---|\n",
              "| 223 | {WHITE HANGING HEART T-LIGHT HOLDER} | 0.09071654 | 2013 |\n",
              "| 224 | {REGENCY CAKESTAND 3 TIER}           | 0.08490311 | 1884 |\n",
              "| 226 | {JUMBO BAG RED RETROSPOT}            | 0.07404236 | 1643 |\n",
              "| 230 | {PARTY BUNTING}                      | 0.06304642 | 1399 |\n",
              "| 232 | {ASSORTED COLOUR BIRD ORNAMENT}      | 0.06241550 | 1385 |\n",
              "| 225 | {LUNCH BAG RED RETROSPOT}            | 0.05989184 | 1329 |\n",
              "\n"
            ],
            "text/plain": [
              "    items                                support    count\n",
              "223 {WHITE HANGING HEART T-LIGHT HOLDER} 0.09071654 2013 \n",
              "224 {REGENCY CAKESTAND 3 TIER}           0.08490311 1884 \n",
              "226 {JUMBO BAG RED RETROSPOT}            0.07404236 1643 \n",
              "230 {PARTY BUNTING}                      0.06304642 1399 \n",
              "232 {ASSORTED COLOUR BIRD ORNAMENT}      0.06241550 1385 \n",
              "225 {LUNCH BAG RED RETROSPOT}            0.05989184 1329 "
            ]
          },
          "metadata": {},
          "output_type": "display_data"
        }
      ],
      "source": [
        "transactions <- as(split(data$Description, data$InvoiceNo), \"transactions\")\n",
        "\n",
        "min_support <- 0.01\n",
        "frequent_itemsets <- eclat(transactions, parameter = list(support = min_support, maxlen = 5))\n",
        "\n",
        "sorted_itemsets <- sort(frequent_itemsets, by = \"support\", decreasing = TRUE)\n",
        "\n",
        "frequent_itemsets_df <- as(sorted_itemsets, \"data.frame\")\n",
        "head(frequent_itemsets_df)"
      ]
    },
    {
      "cell_type": "markdown",
      "metadata": {
        "id": "kbXJcCRKlG81"
      },
      "source": [
        "# United Kingdom"
      ]
    },
    {
      "cell_type": "code",
      "execution_count": null,
      "metadata": {
        "colab": {
          "base_uri": "https://localhost:8080/",
          "height": 651
        },
        "id": "VNzaFTHwlJ6I",
        "outputId": "9a712a5d-28d7-49f5-c1d3-4ed7f8a7afa5",
        "vscode": {
          "languageId": "r"
        }
      },
      "outputs": [
        {
          "name": "stderr",
          "output_type": "stream",
          "text": [
            "Warning message in asMethod(object):\n",
            "“removing duplicated items in transactions”\n"
          ]
        },
        {
          "name": "stdout",
          "output_type": "stream",
          "text": [
            "Eclat\n",
            "\n",
            "parameter specification:\n",
            " tidLists support minlen maxlen            target  ext\n",
            "    FALSE    0.01      1      5 frequent itemsets TRUE\n",
            "\n",
            "algorithmic control:\n",
            " sparse sort verbose\n",
            "      7   -2    TRUE\n",
            "\n",
            "Absolute minimum support count: 198 \n",
            "\n",
            "create itemset ... \n",
            "set transactions ...[3860 item(s), 19857 transaction(s)] done [0.14s].\n",
            "sorting and recoding items ... [506 item(s)] done [0.01s].\n",
            "creating sparse bit matrix ... [506 row(s), 19857 column(s)] done [0.01s].\n",
            "writing  ... [723 set(s)] done [0.38s].\n",
            "Creating S4 object  ... done [0.00s].\n"
          ]
        },
        {
          "data": {
            "text/html": [
              "<table class=\"dataframe\">\n",
              "<caption>A data.frame: 6 × 3</caption>\n",
              "<thead>\n",
              "\t<tr><th></th><th scope=col>items</th><th scope=col>support</th><th scope=col>count</th></tr>\n",
              "\t<tr><th></th><th scope=col>&lt;chr&gt;</th><th scope=col>&lt;dbl&gt;</th><th scope=col>&lt;int&gt;</th></tr>\n",
              "</thead>\n",
              "<tbody>\n",
              "\t<tr><th scope=row>218</th><td>{WHITE HANGING HEART T-LIGHT HOLDER}</td><td>0.09689278</td><td>1924</td></tr>\n",
              "\t<tr><th scope=row>221</th><td>{REGENCY CAKESTAND 3 TIER}          </td><td>0.07841064</td><td>1557</td></tr>\n",
              "\t<tr><th scope=row>220</th><td>{JUMBO BAG RED RETROSPOT}           </td><td>0.07488543</td><td>1487</td></tr>\n",
              "\t<tr><th scope=row>223</th><td>{PARTY BUNTING}                     </td><td>0.06597170</td><td>1310</td></tr>\n",
              "\t<tr><th scope=row>227</th><td>{ASSORTED COLOUR BIRD ORNAMENT}     </td><td>0.06597170</td><td>1310</td></tr>\n",
              "\t<tr><th scope=row>219</th><td>{LUNCH BAG RED RETROSPOT}           </td><td>0.05826661</td><td>1157</td></tr>\n",
              "</tbody>\n",
              "</table>\n"
            ],
            "text/latex": [
              "A data.frame: 6 × 3\n",
              "\\begin{tabular}{r|lll}\n",
              "  & items & support & count\\\\\n",
              "  & <chr> & <dbl> & <int>\\\\\n",
              "\\hline\n",
              "\t218 & \\{WHITE HANGING HEART T-LIGHT HOLDER\\} & 0.09689278 & 1924\\\\\n",
              "\t221 & \\{REGENCY CAKESTAND 3 TIER\\}           & 0.07841064 & 1557\\\\\n",
              "\t220 & \\{JUMBO BAG RED RETROSPOT\\}            & 0.07488543 & 1487\\\\\n",
              "\t223 & \\{PARTY BUNTING\\}                      & 0.06597170 & 1310\\\\\n",
              "\t227 & \\{ASSORTED COLOUR BIRD ORNAMENT\\}      & 0.06597170 & 1310\\\\\n",
              "\t219 & \\{LUNCH BAG RED RETROSPOT\\}            & 0.05826661 & 1157\\\\\n",
              "\\end{tabular}\n"
            ],
            "text/markdown": [
              "\n",
              "A data.frame: 6 × 3\n",
              "\n",
              "| <!--/--> | items &lt;chr&gt; | support &lt;dbl&gt; | count &lt;int&gt; |\n",
              "|---|---|---|---|\n",
              "| 218 | {WHITE HANGING HEART T-LIGHT HOLDER} | 0.09689278 | 1924 |\n",
              "| 221 | {REGENCY CAKESTAND 3 TIER}           | 0.07841064 | 1557 |\n",
              "| 220 | {JUMBO BAG RED RETROSPOT}            | 0.07488543 | 1487 |\n",
              "| 223 | {PARTY BUNTING}                      | 0.06597170 | 1310 |\n",
              "| 227 | {ASSORTED COLOUR BIRD ORNAMENT}      | 0.06597170 | 1310 |\n",
              "| 219 | {LUNCH BAG RED RETROSPOT}            | 0.05826661 | 1157 |\n",
              "\n"
            ],
            "text/plain": [
              "    items                                support    count\n",
              "218 {WHITE HANGING HEART T-LIGHT HOLDER} 0.09689278 1924 \n",
              "221 {REGENCY CAKESTAND 3 TIER}           0.07841064 1557 \n",
              "220 {JUMBO BAG RED RETROSPOT}            0.07488543 1487 \n",
              "223 {PARTY BUNTING}                      0.06597170 1310 \n",
              "227 {ASSORTED COLOUR BIRD ORNAMENT}      0.06597170 1310 \n",
              "219 {LUNCH BAG RED RETROSPOT}            0.05826661 1157 "
            ]
          },
          "metadata": {},
          "output_type": "display_data"
        }
      ],
      "source": [
        "# Have the data be exclusively UK only\n",
        "UKData <- subset(data, data$Country == \"United Kingdom\")\n",
        "\n",
        "# Make into transaction\n",
        "transactions <- as(split(UKData$Description, UKData$InvoiceNo), \"transactions\")\n",
        "\n",
        "# Apply Eclat algorithm\n",
        "min_support <- 0.01\n",
        "frequent_itemsets <- eclat(transactions, parameter = list(support = min_support, maxlen = 5))\n",
        "\n",
        "# inspect(frequent_itemsets)\n",
        "\n",
        "# Sort\n",
        "sorted_itemsets <- sort(frequent_itemsets, by = \"support\", decreasing = TRUE)\n",
        "# inspect(sorted_itemsets[1:10]) # Top 10 frequent itemsets\n",
        "\n",
        "# RESULT (in dataframe for easier viewing)\n",
        "frequent_itemsets_df <- as(sorted_itemsets, \"data.frame\")\n",
        "head(frequent_itemsets_df)"
      ]
    },
    {
      "cell_type": "markdown",
      "metadata": {
        "id": "fw28frqlmDGX"
      },
      "source": [
        "# France"
      ]
    },
    {
      "cell_type": "code",
      "execution_count": null,
      "metadata": {
        "colab": {
          "base_uri": "https://localhost:8080/",
          "height": 651
        },
        "id": "KZLrH5e6mOR_",
        "outputId": "aaec94bc-375e-4f1c-b918-756ffc9557a2",
        "vscode": {
          "languageId": "r"
        }
      },
      "outputs": [
        {
          "name": "stderr",
          "output_type": "stream",
          "text": [
            "Warning message in asMethod(object):\n",
            "“removing duplicated items in transactions”\n"
          ]
        },
        {
          "name": "stdout",
          "output_type": "stream",
          "text": [
            "Eclat\n",
            "\n",
            "parameter specification:\n",
            " tidLists support minlen maxlen            target  ext\n",
            "    FALSE    0.01      1      5 frequent itemsets TRUE\n",
            "\n",
            "algorithmic control:\n",
            " sparse sort verbose\n",
            "      7   -2    TRUE\n",
            "\n",
            "Absolute minimum support count: 4 \n",
            "\n",
            "create itemset ... \n",
            "set transactions ...[1545 item(s), 458 transaction(s)] done [0.00s].\n",
            "sorting and recoding items ... [457 item(s)] done [0.00s].\n",
            "creating sparse bit matrix ... [457 row(s), 458 column(s)] done [0.00s].\n",
            "writing  ... [12046 set(s)] done [0.01s].\n",
            "Creating S4 object  ... done [0.00s].\n"
          ]
        },
        {
          "data": {
            "text/html": [
              "<table class=\"dataframe\">\n",
              "<caption>A data.frame: 6 × 3</caption>\n",
              "<thead>\n",
              "\t<tr><th></th><th scope=col>items</th><th scope=col>support</th><th scope=col>count</th></tr>\n",
              "\t<tr><th></th><th scope=col>&lt;chr&gt;</th><th scope=col>&lt;dbl&gt;</th><th scope=col>&lt;int&gt;</th></tr>\n",
              "</thead>\n",
              "<tbody>\n",
              "\t<tr><th scope=row>11590</th><td>{POSTAGE}                         </td><td>0.6790393</td><td>311</td></tr>\n",
              "\t<tr><th scope=row>11599</th><td>{RABBIT NIGHT LIGHT}              </td><td>0.1615721</td><td> 74</td></tr>\n",
              "\t<tr><th scope=row>11598</th><td>{RED TOADSTOOL LED NIGHT LIGHT}   </td><td>0.1550218</td><td> 71</td></tr>\n",
              "\t<tr><th scope=row>11592</th><td>{PLASTERS IN TIN CIRCUS PARADE }  </td><td>0.1484716</td><td> 68</td></tr>\n",
              "\t<tr><th scope=row>11591</th><td>{PLASTERS IN TIN WOODLAND ANIMALS}</td><td>0.1462882</td><td> 67</td></tr>\n",
              "\t<tr><th scope=row>11403</th><td>{POSTAGE,RABBIT NIGHT LIGHT}      </td><td>0.1419214</td><td> 65</td></tr>\n",
              "</tbody>\n",
              "</table>\n"
            ],
            "text/latex": [
              "A data.frame: 6 × 3\n",
              "\\begin{tabular}{r|lll}\n",
              "  & items & support & count\\\\\n",
              "  & <chr> & <dbl> & <int>\\\\\n",
              "\\hline\n",
              "\t11590 & \\{POSTAGE\\}                          & 0.6790393 & 311\\\\\n",
              "\t11599 & \\{RABBIT NIGHT LIGHT\\}               & 0.1615721 &  74\\\\\n",
              "\t11598 & \\{RED TOADSTOOL LED NIGHT LIGHT\\}    & 0.1550218 &  71\\\\\n",
              "\t11592 & \\{PLASTERS IN TIN CIRCUS PARADE \\}   & 0.1484716 &  68\\\\\n",
              "\t11591 & \\{PLASTERS IN TIN WOODLAND ANIMALS\\} & 0.1462882 &  67\\\\\n",
              "\t11403 & \\{POSTAGE,RABBIT NIGHT LIGHT\\}       & 0.1419214 &  65\\\\\n",
              "\\end{tabular}\n"
            ],
            "text/markdown": [
              "\n",
              "A data.frame: 6 × 3\n",
              "\n",
              "| <!--/--> | items &lt;chr&gt; | support &lt;dbl&gt; | count &lt;int&gt; |\n",
              "|---|---|---|---|\n",
              "| 11590 | {POSTAGE}                          | 0.6790393 | 311 |\n",
              "| 11599 | {RABBIT NIGHT LIGHT}               | 0.1615721 |  74 |\n",
              "| 11598 | {RED TOADSTOOL LED NIGHT LIGHT}    | 0.1550218 |  71 |\n",
              "| 11592 | {PLASTERS IN TIN CIRCUS PARADE }   | 0.1484716 |  68 |\n",
              "| 11591 | {PLASTERS IN TIN WOODLAND ANIMALS} | 0.1462882 |  67 |\n",
              "| 11403 | {POSTAGE,RABBIT NIGHT LIGHT}       | 0.1419214 |  65 |\n",
              "\n"
            ],
            "text/plain": [
              "      items                              support   count\n",
              "11590 {POSTAGE}                          0.6790393 311  \n",
              "11599 {RABBIT NIGHT LIGHT}               0.1615721  74  \n",
              "11598 {RED TOADSTOOL LED NIGHT LIGHT}    0.1550218  71  \n",
              "11592 {PLASTERS IN TIN CIRCUS PARADE }   0.1484716  68  \n",
              "11591 {PLASTERS IN TIN WOODLAND ANIMALS} 0.1462882  67  \n",
              "11403 {POSTAGE,RABBIT NIGHT LIGHT}       0.1419214  65  "
            ]
          },
          "metadata": {},
          "output_type": "display_data"
        }
      ],
      "source": [
        "# Have the data be exclusively France only\n",
        "FRANCEData <- subset(data, data$Country == \"France\")\n",
        "\n",
        "# Make into transaction\n",
        "transactions <- as(split(FRANCEData$Description, FRANCEData$InvoiceNo), \"transactions\")\n",
        "\n",
        "# Apply Eclat algorithm\n",
        "min_support <- 0.01\n",
        "frequent_itemsets <- eclat(transactions, parameter = list(support = min_support, maxlen = 5))\n",
        "\n",
        "# inspect(frequent_itemsets)\n",
        "\n",
        "# Sort\n",
        "sorted_itemsets <- sort(frequent_itemsets, by = \"support\", decreasing = TRUE)\n",
        "# inspect(sorted_itemsets[1:10]) # Top 10 frequent itemsets\n",
        "\n",
        "# RESULT (in dataframe for easier viewing)\n",
        "frequent_itemsets_df <- as(sorted_itemsets, \"data.frame\")\n",
        "head(frequent_itemsets_df)"
      ]
    },
    {
      "cell_type": "markdown",
      "metadata": {
        "id": "9ywa7jetmO4L"
      },
      "source": [
        "# Germany"
      ]
    },
    {
      "cell_type": "code",
      "execution_count": null,
      "metadata": {
        "colab": {
          "base_uri": "https://localhost:8080/",
          "height": 651
        },
        "id": "54C21CDOmR-x",
        "outputId": "342b7967-74c2-4727-eb44-1f7bca4fa252",
        "vscode": {
          "languageId": "r"
        }
      },
      "outputs": [
        {
          "name": "stderr",
          "output_type": "stream",
          "text": [
            "Warning message in asMethod(object):\n",
            "“removing duplicated items in transactions”\n"
          ]
        },
        {
          "name": "stdout",
          "output_type": "stream",
          "text": [
            "Eclat\n",
            "\n",
            "parameter specification:\n",
            " tidLists support minlen maxlen            target  ext\n",
            "    FALSE    0.01      1      5 frequent itemsets TRUE\n",
            "\n",
            "algorithmic control:\n",
            " sparse sort verbose\n",
            "      7   -2    TRUE\n",
            "\n",
            "Absolute minimum support count: 6 \n",
            "\n",
            "create itemset ... \n",
            "set transactions ...[1703 item(s), 603 transaction(s)] done [0.00s].\n",
            "sorting and recoding items ... [397 item(s)] done [0.00s].\n",
            "creating sparse bit matrix ... [397 row(s), 603 column(s)] done [0.00s].\n",
            "writing  ... [2439 set(s)] done [0.01s].\n",
            "Creating S4 object  ... done [0.00s].\n"
          ]
        },
        {
          "data": {
            "text/html": [
              "<table class=\"dataframe\">\n",
              "<caption>A data.frame: 6 × 3</caption>\n",
              "<thead>\n",
              "\t<tr><th></th><th scope=col>items</th><th scope=col>support</th><th scope=col>count</th></tr>\n",
              "\t<tr><th></th><th scope=col>&lt;chr&gt;</th><th scope=col>&lt;dbl&gt;</th><th scope=col>&lt;int&gt;</th></tr>\n",
              "</thead>\n",
              "<tbody>\n",
              "\t<tr><th scope=row>2043</th><td>{POSTAGE}                                    </td><td>0.6351575</td><td>383</td></tr>\n",
              "\t<tr><th scope=row>2044</th><td>{ROUND SNACK BOXES SET OF4 WOODLAND }        </td><td>0.1973466</td><td>119</td></tr>\n",
              "\t<tr><th scope=row>2042</th><td>{POSTAGE,ROUND SNACK BOXES SET OF4 WOODLAND }</td><td>0.1708126</td><td>103</td></tr>\n",
              "\t<tr><th scope=row>2047</th><td>{REGENCY CAKESTAND 3 TIER}                   </td><td>0.1343284</td><td> 81</td></tr>\n",
              "\t<tr><th scope=row>2045</th><td>{ROUND SNACK BOXES SET OF 4 FRUITS }         </td><td>0.1293532</td><td> 78</td></tr>\n",
              "\t<tr><th scope=row>2040</th><td>{POSTAGE,ROUND SNACK BOXES SET OF 4 FRUITS } </td><td>0.1144279</td><td> 69</td></tr>\n",
              "</tbody>\n",
              "</table>\n"
            ],
            "text/latex": [
              "A data.frame: 6 × 3\n",
              "\\begin{tabular}{r|lll}\n",
              "  & items & support & count\\\\\n",
              "  & <chr> & <dbl> & <int>\\\\\n",
              "\\hline\n",
              "\t2043 & \\{POSTAGE\\}                                     & 0.6351575 & 383\\\\\n",
              "\t2044 & \\{ROUND SNACK BOXES SET OF4 WOODLAND \\}         & 0.1973466 & 119\\\\\n",
              "\t2042 & \\{POSTAGE,ROUND SNACK BOXES SET OF4 WOODLAND \\} & 0.1708126 & 103\\\\\n",
              "\t2047 & \\{REGENCY CAKESTAND 3 TIER\\}                    & 0.1343284 &  81\\\\\n",
              "\t2045 & \\{ROUND SNACK BOXES SET OF 4 FRUITS \\}          & 0.1293532 &  78\\\\\n",
              "\t2040 & \\{POSTAGE,ROUND SNACK BOXES SET OF 4 FRUITS \\}  & 0.1144279 &  69\\\\\n",
              "\\end{tabular}\n"
            ],
            "text/markdown": [
              "\n",
              "A data.frame: 6 × 3\n",
              "\n",
              "| <!--/--> | items &lt;chr&gt; | support &lt;dbl&gt; | count &lt;int&gt; |\n",
              "|---|---|---|---|\n",
              "| 2043 | {POSTAGE}                                     | 0.6351575 | 383 |\n",
              "| 2044 | {ROUND SNACK BOXES SET OF4 WOODLAND }         | 0.1973466 | 119 |\n",
              "| 2042 | {POSTAGE,ROUND SNACK BOXES SET OF4 WOODLAND } | 0.1708126 | 103 |\n",
              "| 2047 | {REGENCY CAKESTAND 3 TIER}                    | 0.1343284 |  81 |\n",
              "| 2045 | {ROUND SNACK BOXES SET OF 4 FRUITS }          | 0.1293532 |  78 |\n",
              "| 2040 | {POSTAGE,ROUND SNACK BOXES SET OF 4 FRUITS }  | 0.1144279 |  69 |\n",
              "\n"
            ],
            "text/plain": [
              "     items                                         support   count\n",
              "2043 {POSTAGE}                                     0.6351575 383  \n",
              "2044 {ROUND SNACK BOXES SET OF4 WOODLAND }         0.1973466 119  \n",
              "2042 {POSTAGE,ROUND SNACK BOXES SET OF4 WOODLAND } 0.1708126 103  \n",
              "2047 {REGENCY CAKESTAND 3 TIER}                    0.1343284  81  \n",
              "2045 {ROUND SNACK BOXES SET OF 4 FRUITS }          0.1293532  78  \n",
              "2040 {POSTAGE,ROUND SNACK BOXES SET OF 4 FRUITS }  0.1144279  69  "
            ]
          },
          "metadata": {},
          "output_type": "display_data"
        }
      ],
      "source": [
        "# Have the data be exclusively UK only\n",
        "GERMANData <- subset(data, data$Country == \"Germany\")\n",
        "\n",
        "# Make into transaction\n",
        "transactions <- as(split(GERMANData$Description, GERMANData$InvoiceNo), \"transactions\")\n",
        "\n",
        "# Apply Eclat algorithm\n",
        "min_support <- 0.01\n",
        "frequent_itemsets <- eclat(transactions, parameter = list(support = min_support, maxlen = 5))\n",
        "\n",
        "# inspect(frequent_itemsets)\n",
        "\n",
        "# Sort\n",
        "sorted_itemsets <- sort(frequent_itemsets, by = \"support\", decreasing = TRUE)\n",
        "# inspect(sorted_itemsets[1:10]) # Top 10 frequent itemsets\n",
        "\n",
        "# RESULT (in dataframe for easier viewing)\n",
        "frequent_itemsets_df <- as(sorted_itemsets, \"data.frame\")\n",
        "head(frequent_itemsets_df)"
      ]
    }
  ],
  "metadata": {
    "colab": {
      "provenance": []
    },
    "kernelspec": {
      "display_name": "R",
      "name": "ir"
    },
    "language_info": {
      "name": "R"
    }
  },
  "nbformat": 4,
  "nbformat_minor": 0
}
