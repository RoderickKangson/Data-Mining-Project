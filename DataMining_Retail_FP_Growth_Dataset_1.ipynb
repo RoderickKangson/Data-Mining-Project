{
  "cells": [
    {
      "cell_type": "code",
      "execution_count": null,
      "metadata": {
        "colab": {
          "base_uri": "https://localhost:8080/",
          "height": 1000
        },
        "id": "fdv3lwdpia0M",
        "outputId": "cec81f4d-6d2c-4482-dac6-367fb13f2a1e",
        "vscode": {
          "languageId": "r"
        }
      },
      "outputs": [
        {
          "data": {
            "text/html": [
              "<table class=\"dataframe\">\n",
              "<caption>A data.frame: 254637 × 8</caption>\n",
              "<thead>\n",
              "\t<tr><th></th><th scope=col>InvoiceNo</th><th scope=col>StockCode</th><th scope=col>Description</th><th scope=col>Quantity</th><th scope=col>InvoiceDate</th><th scope=col>UnitPrice</th><th scope=col>CustomerID</th><th scope=col>Country</th></tr>\n",
              "\t<tr><th></th><th scope=col>&lt;chr&gt;</th><th scope=col>&lt;chr&gt;</th><th scope=col>&lt;chr&gt;</th><th scope=col>&lt;int&gt;</th><th scope=col>&lt;chr&gt;</th><th scope=col>&lt;dbl&gt;</th><th scope=col>&lt;dbl&gt;</th><th scope=col>&lt;chr&gt;</th></tr>\n",
              "</thead>\n",
              "<tbody>\n",
              "\t<tr><th scope=row>1</th><td>536365</td><td>85123A</td><td>WHITE HANGING HEART T-LIGHT HOLDER </td><td> 6</td><td>2010-12-01 08:26:00</td><td>2.55</td><td>17850</td><td>United Kingdom</td></tr>\n",
              "\t<tr><th scope=row>2</th><td>536365</td><td>71053 </td><td>WHITE METAL LANTERN                </td><td> 6</td><td>2010-12-01 08:26:00</td><td>3.39</td><td>17850</td><td>United Kingdom</td></tr>\n",
              "\t<tr><th scope=row>3</th><td>536365</td><td>84406B</td><td>CREAM CUPID HEARTS COAT HANGER     </td><td> 8</td><td>2010-12-01 08:26:00</td><td>2.75</td><td>17850</td><td>United Kingdom</td></tr>\n",
              "\t<tr><th scope=row>4</th><td>536365</td><td>84029G</td><td>KNITTED UNION FLAG HOT WATER BOTTLE</td><td> 6</td><td>2010-12-01 08:26:00</td><td>3.39</td><td>17850</td><td>United Kingdom</td></tr>\n",
              "\t<tr><th scope=row>5</th><td>536365</td><td>84029E</td><td>RED WOOLLY HOTTIE WHITE HEART.     </td><td> 6</td><td>2010-12-01 08:26:00</td><td>3.39</td><td>17850</td><td>United Kingdom</td></tr>\n",
              "\t<tr><th scope=row>6</th><td>536365</td><td>22752 </td><td>SET 7 BABUSHKA NESTING BOXES       </td><td> 2</td><td>2010-12-01 08:26:00</td><td>7.65</td><td>17850</td><td>United Kingdom</td></tr>\n",
              "\t<tr><th scope=row>7</th><td>536365</td><td>21730 </td><td>GLASS STAR FROSTED T-LIGHT HOLDER  </td><td> 6</td><td>2010-12-01 08:26:00</td><td>4.25</td><td>17850</td><td>United Kingdom</td></tr>\n",
              "\t<tr><th scope=row>8</th><td>536366</td><td>22633 </td><td>HAND WARMER UNION JACK             </td><td> 6</td><td>2010-12-01 08:28:00</td><td>1.85</td><td>17850</td><td>United Kingdom</td></tr>\n",
              "\t<tr><th scope=row>9</th><td>536366</td><td>22632 </td><td>HAND WARMER RED POLKA DOT          </td><td> 6</td><td>2010-12-01 08:28:00</td><td>1.85</td><td>17850</td><td>United Kingdom</td></tr>\n",
              "\t<tr><th scope=row>10</th><td>536367</td><td>84879 </td><td>ASSORTED COLOUR BIRD ORNAMENT      </td><td>32</td><td>2010-12-01 08:34:00</td><td>1.69</td><td>13047</td><td>United Kingdom</td></tr>\n",
              "\t<tr><th scope=row>11</th><td>536367</td><td>22745 </td><td>POPPY'S PLAYHOUSE BEDROOM          </td><td> 6</td><td>2010-12-01 08:34:00</td><td>2.10</td><td>13047</td><td>United Kingdom</td></tr>\n",
              "\t<tr><th scope=row>12</th><td>536367</td><td>22748 </td><td>POPPY'S PLAYHOUSE KITCHEN          </td><td> 6</td><td>2010-12-01 08:34:00</td><td>2.10</td><td>13047</td><td>United Kingdom</td></tr>\n",
              "\t<tr><th scope=row>13</th><td>536367</td><td>22749 </td><td>FELTCRAFT PRINCESS CHARLOTTE DOLL  </td><td> 8</td><td>2010-12-01 08:34:00</td><td>3.75</td><td>13047</td><td>United Kingdom</td></tr>\n",
              "\t<tr><th scope=row>14</th><td>536367</td><td>22310 </td><td>IVORY KNITTED MUG COSY             </td><td> 6</td><td>2010-12-01 08:34:00</td><td>1.65</td><td>13047</td><td>United Kingdom</td></tr>\n",
              "\t<tr><th scope=row>15</th><td>536367</td><td>84969 </td><td>BOX OF 6 ASSORTED COLOUR TEASPOONS </td><td> 6</td><td>2010-12-01 08:34:00</td><td>4.25</td><td>13047</td><td>United Kingdom</td></tr>\n",
              "\t<tr><th scope=row>16</th><td>536367</td><td>22623 </td><td>BOX OF VINTAGE JIGSAW BLOCKS       </td><td> 3</td><td>2010-12-01 08:34:00</td><td>4.95</td><td>13047</td><td>United Kingdom</td></tr>\n",
              "\t<tr><th scope=row>17</th><td>536367</td><td>22622 </td><td>BOX OF VINTAGE ALPHABET BLOCKS     </td><td> 2</td><td>2010-12-01 08:34:00</td><td>9.95</td><td>13047</td><td>United Kingdom</td></tr>\n",
              "\t<tr><th scope=row>18</th><td>536367</td><td>21754 </td><td>HOME BUILDING BLOCK WORD           </td><td> 3</td><td>2010-12-01 08:34:00</td><td>5.95</td><td>13047</td><td>United Kingdom</td></tr>\n",
              "\t<tr><th scope=row>19</th><td>536367</td><td>21755 </td><td>LOVE BUILDING BLOCK WORD           </td><td> 3</td><td>2010-12-01 08:34:00</td><td>5.95</td><td>13047</td><td>United Kingdom</td></tr>\n",
              "\t<tr><th scope=row>20</th><td>536367</td><td>21777 </td><td>RECIPE BOX WITH METAL HEART        </td><td> 4</td><td>2010-12-01 08:34:00</td><td>7.95</td><td>13047</td><td>United Kingdom</td></tr>\n",
              "\t<tr><th scope=row>21</th><td>536367</td><td>48187 </td><td>DOORMAT NEW ENGLAND                </td><td> 4</td><td>2010-12-01 08:34:00</td><td>7.95</td><td>13047</td><td>United Kingdom</td></tr>\n",
              "\t<tr><th scope=row>22</th><td>536368</td><td>22960 </td><td>JAM MAKING SET WITH JARS           </td><td> 6</td><td>2010-12-01 08:34:00</td><td>4.25</td><td>13047</td><td>United Kingdom</td></tr>\n",
              "\t<tr><th scope=row>23</th><td>536368</td><td>22913 </td><td>RED COAT RACK PARIS FASHION        </td><td> 3</td><td>2010-12-01 08:34:00</td><td>4.95</td><td>13047</td><td>United Kingdom</td></tr>\n",
              "\t<tr><th scope=row>24</th><td>536368</td><td>22912 </td><td>YELLOW COAT RACK PARIS FASHION     </td><td> 3</td><td>2010-12-01 08:34:00</td><td>4.95</td><td>13047</td><td>United Kingdom</td></tr>\n",
              "\t<tr><th scope=row>25</th><td>536368</td><td>22914 </td><td>BLUE COAT RACK PARIS FASHION       </td><td> 3</td><td>2010-12-01 08:34:00</td><td>4.95</td><td>13047</td><td>United Kingdom</td></tr>\n",
              "\t<tr><th scope=row>26</th><td>536369</td><td>21756 </td><td>BATH BUILDING BLOCK WORD           </td><td> 3</td><td>2010-12-01 08:35:00</td><td>5.95</td><td>13047</td><td>United Kingdom</td></tr>\n",
              "\t<tr><th scope=row>27</th><td>536370</td><td>22728 </td><td>ALARM CLOCK BAKELIKE PINK          </td><td>24</td><td>2010-12-01 08:45:00</td><td>3.75</td><td>12583</td><td>France        </td></tr>\n",
              "\t<tr><th scope=row>28</th><td>536370</td><td>22727 </td><td>ALARM CLOCK BAKELIKE RED           </td><td>24</td><td>2010-12-01 08:45:00</td><td>3.75</td><td>12583</td><td>France        </td></tr>\n",
              "\t<tr><th scope=row>29</th><td>536370</td><td>22726 </td><td>ALARM CLOCK BAKELIKE GREEN         </td><td>12</td><td>2010-12-01 08:45:00</td><td>3.75</td><td>12583</td><td>France        </td></tr>\n",
              "\t<tr><th scope=row>30</th><td>536370</td><td>21724 </td><td>PANDA AND BUNNIES STICKER SHEET    </td><td>12</td><td>2010-12-01 08:45:00</td><td>0.85</td><td>12583</td><td>France        </td></tr>\n",
              "\t<tr><th scope=row>⋮</th><td>⋮</td><td>⋮</td><td>⋮</td><td>⋮</td><td>⋮</td><td>⋮</td><td>⋮</td><td>⋮</td></tr>\n",
              "\t<tr><th scope=row>351413</th><td>567666</td><td>21787 </td><td>RAIN PONCHO RETROSPOT              </td><td> 24</td><td>2011-09-21 15:23:00</td><td> 0.85</td><td>12520</td><td>Germany       </td></tr>\n",
              "\t<tr><th scope=row>351414</th><td>567666</td><td>23287 </td><td>RED VINTAGE SPOT BEAKER            </td><td>  8</td><td>2011-09-21 15:23:00</td><td> 0.85</td><td>12520</td><td>Germany       </td></tr>\n",
              "\t<tr><th scope=row>351415</th><td>567666</td><td>35599D</td><td>PINK AND WHITE CHRISTMAS TREE 120CM</td><td>  6</td><td>2011-09-21 15:23:00</td><td> 2.95</td><td>12520</td><td>Germany       </td></tr>\n",
              "\t<tr><th scope=row>351416</th><td>567666</td><td>22398 </td><td>MAGNETS PACK OF 4 SWALLOWS         </td><td> 12</td><td>2011-09-21 15:23:00</td><td> 0.39</td><td>12520</td><td>Germany       </td></tr>\n",
              "\t<tr><th scope=row>351417</th><td>567666</td><td>23189 </td><td>SET OF 12 FORK CANDLES             </td><td> 18</td><td>2011-09-21 15:23:00</td><td> 2.89</td><td>12520</td><td>Germany       </td></tr>\n",
              "\t<tr><th scope=row>351418</th><td>567666</td><td>35471D</td><td>SET OF 3 BIRD LIGHT PINK FEATHER   </td><td> 24</td><td>2011-09-21 15:23:00</td><td> 0.39</td><td>12520</td><td>Germany       </td></tr>\n",
              "\t<tr><th scope=row>351419</th><td>567666</td><td>21035 </td><td>SET/2 RED RETROSPOT TEA TOWELS     </td><td>  6</td><td>2011-09-21 15:23:00</td><td> 3.25</td><td>12520</td><td>Germany       </td></tr>\n",
              "\t<tr><th scope=row>351420</th><td>567666</td><td>22900 </td><td>SET 2 TEA TOWELS I LOVE LONDON     </td><td>  6</td><td>2011-09-21 15:23:00</td><td> 3.25</td><td>12520</td><td>Germany       </td></tr>\n",
              "\t<tr><th scope=row>351421</th><td>567666</td><td>22629 </td><td>SPACEBOY LUNCH BOX                 </td><td> 12</td><td>2011-09-21 15:23:00</td><td> 1.95</td><td>12520</td><td>Germany       </td></tr>\n",
              "\t<tr><th scope=row>351422</th><td>567666</td><td>21094 </td><td>SET/6 RED SPOTTY PAPER PLATES      </td><td> 12</td><td>2011-09-21 15:23:00</td><td> 0.85</td><td>12520</td><td>Germany       </td></tr>\n",
              "\t<tr><th scope=row>351423</th><td>567666</td><td>21242 </td><td>RED RETROSPOT PLATE                </td><td> 16</td><td>2011-09-21 15:23:00</td><td> 1.69</td><td>12520</td><td>Germany       </td></tr>\n",
              "\t<tr><th scope=row>351424</th><td>567666</td><td>22378 </td><td>WALL TIDY RETROSPOT                </td><td>  5</td><td>2011-09-21 15:23:00</td><td> 2.10</td><td>12520</td><td>Germany       </td></tr>\n",
              "\t<tr><th scope=row>351425</th><td>567666</td><td>23298 </td><td>SPOTTY BUNTING                     </td><td>  6</td><td>2011-09-21 15:23:00</td><td> 4.95</td><td>12520</td><td>Germany       </td></tr>\n",
              "\t<tr><th scope=row>351426</th><td>567666</td><td>22476 </td><td>EMPIRE UNION JACK TV DINNER TRAY   </td><td>  3</td><td>2011-09-21 15:23:00</td><td> 4.95</td><td>12520</td><td>Germany       </td></tr>\n",
              "\t<tr><th scope=row>351427</th><td>567666</td><td>22816 </td><td>CARD MOTORBIKE SANTA               </td><td> 12</td><td>2011-09-21 15:23:00</td><td> 0.42</td><td>12520</td><td>Germany       </td></tr>\n",
              "\t<tr><th scope=row>351428</th><td>567666</td><td>22333 </td><td>RETROSPOT PARTY BAG + STICKER SET  </td><td>  8</td><td>2011-09-21 15:23:00</td><td> 1.65</td><td>12520</td><td>Germany       </td></tr>\n",
              "\t<tr><th scope=row>351429</th><td>567666</td><td>22329 </td><td>ROUND CONTAINER SET OF 5 RETROSPOT </td><td> 12</td><td>2011-09-21 15:23:00</td><td> 1.65</td><td>12520</td><td>Germany       </td></tr>\n",
              "\t<tr><th scope=row>351430</th><td>567666</td><td>22819 </td><td>BIRTHDAY CARD, RETRO SPOT          </td><td> 12</td><td>2011-09-21 15:23:00</td><td> 0.42</td><td>12520</td><td>Germany       </td></tr>\n",
              "\t<tr><th scope=row>351431</th><td>567666</td><td>22326 </td><td>ROUND SNACK BOXES SET OF4 WOODLAND </td><td> 12</td><td>2011-09-21 15:23:00</td><td> 2.95</td><td>12520</td><td>Germany       </td></tr>\n",
              "\t<tr><th scope=row>351432</th><td>567666</td><td>23388 </td><td>WOODLAND MINI BACKPACK             </td><td>  4</td><td>2011-09-21 15:23:00</td><td> 4.15</td><td>12520</td><td>Germany       </td></tr>\n",
              "\t<tr><th scope=row>351433</th><td>567666</td><td>23389 </td><td>SPACEBOY MINI BACKPACK             </td><td>  4</td><td>2011-09-21 15:23:00</td><td> 4.15</td><td>12520</td><td>Germany       </td></tr>\n",
              "\t<tr><th scope=row>351434</th><td>567666</td><td>POST  </td><td>POSTAGE                            </td><td>  4</td><td>2011-09-21 15:23:00</td><td>18.00</td><td>12520</td><td>Germany       </td></tr>\n",
              "\t<tr><th scope=row>351435</th><td>567666</td><td>21673 </td><td>WHITE SPOT BLUE CERAMIC DRAWER KNOB</td><td> 12</td><td>2011-09-21 15:23:00</td><td> 1.45</td><td>12520</td><td>Germany       </td></tr>\n",
              "\t<tr><th scope=row>351436</th><td>567666</td><td>21672 </td><td>WHITE SPOT RED CERAMIC DRAWER KNOB </td><td> 12</td><td>2011-09-21 15:23:00</td><td> 1.45</td><td>12520</td><td>Germany       </td></tr>\n",
              "\t<tr><th scope=row>351876</th><td>567669</td><td>20724 </td><td>RED RETROSPOT CHARLOTTE BAG        </td><td>100</td><td>2011-09-21 15:32:00</td><td> 0.72</td><td>14887</td><td>United Kingdom</td></tr>\n",
              "\t<tr><th scope=row>351877</th><td>567669</td><td>23203 </td><td>JUMBO BAG VINTAGE DOILY            </td><td>200</td><td>2011-09-21 15:32:00</td><td> 1.79</td><td>14887</td><td>United Kingdom</td></tr>\n",
              "\t<tr><th scope=row>351878</th><td>567669</td><td>23201 </td><td>JUMBO BAG ALPHABET                 </td><td>200</td><td>2011-09-21 15:32:00</td><td> 1.79</td><td>14887</td><td>United Kingdom</td></tr>\n",
              "\t<tr><th scope=row>351879</th><td>567669</td><td>85099F</td><td>JUMBO BAG STRAWBERRY               </td><td>200</td><td>2011-09-21 15:32:00</td><td> 1.79</td><td>14887</td><td>United Kingdom</td></tr>\n",
              "\t<tr><th scope=row>351880</th><td>567669</td><td>85099C</td><td>JUMBO  BAG BAROQUE BLACK WHITE     </td><td>200</td><td>2011-09-21 15:32:00</td><td> 1.79</td><td>14887</td><td>United Kingdom</td></tr>\n",
              "\t<tr><th scope=row>351881</th><td>567669</td><td>85099B</td><td>JUMBO BAG RED RETROSPOT            </td><td>200</td><td>2011-09-21 15:32:00</td><td> 1.79</td><td>14887</td><td>United Kingdom</td></tr>\n",
              "</tbody>\n",
              "</table>\n"
            ],
            "text/latex": [
              "A data.frame: 254637 × 8\n",
              "\\begin{tabular}{r|llllllll}\n",
              "  & InvoiceNo & StockCode & Description & Quantity & InvoiceDate & UnitPrice & CustomerID & Country\\\\\n",
              "  & <chr> & <chr> & <chr> & <int> & <chr> & <dbl> & <dbl> & <chr>\\\\\n",
              "\\hline\n",
              "\t1 & 536365 & 85123A & WHITE HANGING HEART T-LIGHT HOLDER  &  6 & 2010-12-01 08:26:00 & 2.55 & 17850 & United Kingdom\\\\\n",
              "\t2 & 536365 & 71053  & WHITE METAL LANTERN                 &  6 & 2010-12-01 08:26:00 & 3.39 & 17850 & United Kingdom\\\\\n",
              "\t3 & 536365 & 84406B & CREAM CUPID HEARTS COAT HANGER      &  8 & 2010-12-01 08:26:00 & 2.75 & 17850 & United Kingdom\\\\\n",
              "\t4 & 536365 & 84029G & KNITTED UNION FLAG HOT WATER BOTTLE &  6 & 2010-12-01 08:26:00 & 3.39 & 17850 & United Kingdom\\\\\n",
              "\t5 & 536365 & 84029E & RED WOOLLY HOTTIE WHITE HEART.      &  6 & 2010-12-01 08:26:00 & 3.39 & 17850 & United Kingdom\\\\\n",
              "\t6 & 536365 & 22752  & SET 7 BABUSHKA NESTING BOXES        &  2 & 2010-12-01 08:26:00 & 7.65 & 17850 & United Kingdom\\\\\n",
              "\t7 & 536365 & 21730  & GLASS STAR FROSTED T-LIGHT HOLDER   &  6 & 2010-12-01 08:26:00 & 4.25 & 17850 & United Kingdom\\\\\n",
              "\t8 & 536366 & 22633  & HAND WARMER UNION JACK              &  6 & 2010-12-01 08:28:00 & 1.85 & 17850 & United Kingdom\\\\\n",
              "\t9 & 536366 & 22632  & HAND WARMER RED POLKA DOT           &  6 & 2010-12-01 08:28:00 & 1.85 & 17850 & United Kingdom\\\\\n",
              "\t10 & 536367 & 84879  & ASSORTED COLOUR BIRD ORNAMENT       & 32 & 2010-12-01 08:34:00 & 1.69 & 13047 & United Kingdom\\\\\n",
              "\t11 & 536367 & 22745  & POPPY'S PLAYHOUSE BEDROOM           &  6 & 2010-12-01 08:34:00 & 2.10 & 13047 & United Kingdom\\\\\n",
              "\t12 & 536367 & 22748  & POPPY'S PLAYHOUSE KITCHEN           &  6 & 2010-12-01 08:34:00 & 2.10 & 13047 & United Kingdom\\\\\n",
              "\t13 & 536367 & 22749  & FELTCRAFT PRINCESS CHARLOTTE DOLL   &  8 & 2010-12-01 08:34:00 & 3.75 & 13047 & United Kingdom\\\\\n",
              "\t14 & 536367 & 22310  & IVORY KNITTED MUG COSY              &  6 & 2010-12-01 08:34:00 & 1.65 & 13047 & United Kingdom\\\\\n",
              "\t15 & 536367 & 84969  & BOX OF 6 ASSORTED COLOUR TEASPOONS  &  6 & 2010-12-01 08:34:00 & 4.25 & 13047 & United Kingdom\\\\\n",
              "\t16 & 536367 & 22623  & BOX OF VINTAGE JIGSAW BLOCKS        &  3 & 2010-12-01 08:34:00 & 4.95 & 13047 & United Kingdom\\\\\n",
              "\t17 & 536367 & 22622  & BOX OF VINTAGE ALPHABET BLOCKS      &  2 & 2010-12-01 08:34:00 & 9.95 & 13047 & United Kingdom\\\\\n",
              "\t18 & 536367 & 21754  & HOME BUILDING BLOCK WORD            &  3 & 2010-12-01 08:34:00 & 5.95 & 13047 & United Kingdom\\\\\n",
              "\t19 & 536367 & 21755  & LOVE BUILDING BLOCK WORD            &  3 & 2010-12-01 08:34:00 & 5.95 & 13047 & United Kingdom\\\\\n",
              "\t20 & 536367 & 21777  & RECIPE BOX WITH METAL HEART         &  4 & 2010-12-01 08:34:00 & 7.95 & 13047 & United Kingdom\\\\\n",
              "\t21 & 536367 & 48187  & DOORMAT NEW ENGLAND                 &  4 & 2010-12-01 08:34:00 & 7.95 & 13047 & United Kingdom\\\\\n",
              "\t22 & 536368 & 22960  & JAM MAKING SET WITH JARS            &  6 & 2010-12-01 08:34:00 & 4.25 & 13047 & United Kingdom\\\\\n",
              "\t23 & 536368 & 22913  & RED COAT RACK PARIS FASHION         &  3 & 2010-12-01 08:34:00 & 4.95 & 13047 & United Kingdom\\\\\n",
              "\t24 & 536368 & 22912  & YELLOW COAT RACK PARIS FASHION      &  3 & 2010-12-01 08:34:00 & 4.95 & 13047 & United Kingdom\\\\\n",
              "\t25 & 536368 & 22914  & BLUE COAT RACK PARIS FASHION        &  3 & 2010-12-01 08:34:00 & 4.95 & 13047 & United Kingdom\\\\\n",
              "\t26 & 536369 & 21756  & BATH BUILDING BLOCK WORD            &  3 & 2010-12-01 08:35:00 & 5.95 & 13047 & United Kingdom\\\\\n",
              "\t27 & 536370 & 22728  & ALARM CLOCK BAKELIKE PINK           & 24 & 2010-12-01 08:45:00 & 3.75 & 12583 & France        \\\\\n",
              "\t28 & 536370 & 22727  & ALARM CLOCK BAKELIKE RED            & 24 & 2010-12-01 08:45:00 & 3.75 & 12583 & France        \\\\\n",
              "\t29 & 536370 & 22726  & ALARM CLOCK BAKELIKE GREEN          & 12 & 2010-12-01 08:45:00 & 3.75 & 12583 & France        \\\\\n",
              "\t30 & 536370 & 21724  & PANDA AND BUNNIES STICKER SHEET     & 12 & 2010-12-01 08:45:00 & 0.85 & 12583 & France        \\\\\n",
              "\t⋮ & ⋮ & ⋮ & ⋮ & ⋮ & ⋮ & ⋮ & ⋮ & ⋮\\\\\n",
              "\t351413 & 567666 & 21787  & RAIN PONCHO RETROSPOT               &  24 & 2011-09-21 15:23:00 &  0.85 & 12520 & Germany       \\\\\n",
              "\t351414 & 567666 & 23287  & RED VINTAGE SPOT BEAKER             &   8 & 2011-09-21 15:23:00 &  0.85 & 12520 & Germany       \\\\\n",
              "\t351415 & 567666 & 35599D & PINK AND WHITE CHRISTMAS TREE 120CM &   6 & 2011-09-21 15:23:00 &  2.95 & 12520 & Germany       \\\\\n",
              "\t351416 & 567666 & 22398  & MAGNETS PACK OF 4 SWALLOWS          &  12 & 2011-09-21 15:23:00 &  0.39 & 12520 & Germany       \\\\\n",
              "\t351417 & 567666 & 23189  & SET OF 12 FORK CANDLES              &  18 & 2011-09-21 15:23:00 &  2.89 & 12520 & Germany       \\\\\n",
              "\t351418 & 567666 & 35471D & SET OF 3 BIRD LIGHT PINK FEATHER    &  24 & 2011-09-21 15:23:00 &  0.39 & 12520 & Germany       \\\\\n",
              "\t351419 & 567666 & 21035  & SET/2 RED RETROSPOT TEA TOWELS      &   6 & 2011-09-21 15:23:00 &  3.25 & 12520 & Germany       \\\\\n",
              "\t351420 & 567666 & 22900  & SET 2 TEA TOWELS I LOVE LONDON      &   6 & 2011-09-21 15:23:00 &  3.25 & 12520 & Germany       \\\\\n",
              "\t351421 & 567666 & 22629  & SPACEBOY LUNCH BOX                  &  12 & 2011-09-21 15:23:00 &  1.95 & 12520 & Germany       \\\\\n",
              "\t351422 & 567666 & 21094  & SET/6 RED SPOTTY PAPER PLATES       &  12 & 2011-09-21 15:23:00 &  0.85 & 12520 & Germany       \\\\\n",
              "\t351423 & 567666 & 21242  & RED RETROSPOT PLATE                 &  16 & 2011-09-21 15:23:00 &  1.69 & 12520 & Germany       \\\\\n",
              "\t351424 & 567666 & 22378  & WALL TIDY RETROSPOT                 &   5 & 2011-09-21 15:23:00 &  2.10 & 12520 & Germany       \\\\\n",
              "\t351425 & 567666 & 23298  & SPOTTY BUNTING                      &   6 & 2011-09-21 15:23:00 &  4.95 & 12520 & Germany       \\\\\n",
              "\t351426 & 567666 & 22476  & EMPIRE UNION JACK TV DINNER TRAY    &   3 & 2011-09-21 15:23:00 &  4.95 & 12520 & Germany       \\\\\n",
              "\t351427 & 567666 & 22816  & CARD MOTORBIKE SANTA                &  12 & 2011-09-21 15:23:00 &  0.42 & 12520 & Germany       \\\\\n",
              "\t351428 & 567666 & 22333  & RETROSPOT PARTY BAG + STICKER SET   &   8 & 2011-09-21 15:23:00 &  1.65 & 12520 & Germany       \\\\\n",
              "\t351429 & 567666 & 22329  & ROUND CONTAINER SET OF 5 RETROSPOT  &  12 & 2011-09-21 15:23:00 &  1.65 & 12520 & Germany       \\\\\n",
              "\t351430 & 567666 & 22819  & BIRTHDAY CARD, RETRO SPOT           &  12 & 2011-09-21 15:23:00 &  0.42 & 12520 & Germany       \\\\\n",
              "\t351431 & 567666 & 22326  & ROUND SNACK BOXES SET OF4 WOODLAND  &  12 & 2011-09-21 15:23:00 &  2.95 & 12520 & Germany       \\\\\n",
              "\t351432 & 567666 & 23388  & WOODLAND MINI BACKPACK              &   4 & 2011-09-21 15:23:00 &  4.15 & 12520 & Germany       \\\\\n",
              "\t351433 & 567666 & 23389  & SPACEBOY MINI BACKPACK              &   4 & 2011-09-21 15:23:00 &  4.15 & 12520 & Germany       \\\\\n",
              "\t351434 & 567666 & POST   & POSTAGE                             &   4 & 2011-09-21 15:23:00 & 18.00 & 12520 & Germany       \\\\\n",
              "\t351435 & 567666 & 21673  & WHITE SPOT BLUE CERAMIC DRAWER KNOB &  12 & 2011-09-21 15:23:00 &  1.45 & 12520 & Germany       \\\\\n",
              "\t351436 & 567666 & 21672  & WHITE SPOT RED CERAMIC DRAWER KNOB  &  12 & 2011-09-21 15:23:00 &  1.45 & 12520 & Germany       \\\\\n",
              "\t351876 & 567669 & 20724  & RED RETROSPOT CHARLOTTE BAG         & 100 & 2011-09-21 15:32:00 &  0.72 & 14887 & United Kingdom\\\\\n",
              "\t351877 & 567669 & 23203  & JUMBO BAG VINTAGE DOILY             & 200 & 2011-09-21 15:32:00 &  1.79 & 14887 & United Kingdom\\\\\n",
              "\t351878 & 567669 & 23201  & JUMBO BAG ALPHABET                  & 200 & 2011-09-21 15:32:00 &  1.79 & 14887 & United Kingdom\\\\\n",
              "\t351879 & 567669 & 85099F & JUMBO BAG STRAWBERRY                & 200 & 2011-09-21 15:32:00 &  1.79 & 14887 & United Kingdom\\\\\n",
              "\t351880 & 567669 & 85099C & JUMBO  BAG BAROQUE BLACK WHITE      & 200 & 2011-09-21 15:32:00 &  1.79 & 14887 & United Kingdom\\\\\n",
              "\t351881 & 567669 & 85099B & JUMBO BAG RED RETROSPOT             & 200 & 2011-09-21 15:32:00 &  1.79 & 14887 & United Kingdom\\\\\n",
              "\\end{tabular}\n"
            ],
            "text/markdown": [
              "\n",
              "A data.frame: 254637 × 8\n",
              "\n",
              "| <!--/--> | InvoiceNo &lt;chr&gt; | StockCode &lt;chr&gt; | Description &lt;chr&gt; | Quantity &lt;int&gt; | InvoiceDate &lt;chr&gt; | UnitPrice &lt;dbl&gt; | CustomerID &lt;dbl&gt; | Country &lt;chr&gt; |\n",
              "|---|---|---|---|---|---|---|---|---|\n",
              "| 1 | 536365 | 85123A | WHITE HANGING HEART T-LIGHT HOLDER  |  6 | 2010-12-01 08:26:00 | 2.55 | 17850 | United Kingdom |\n",
              "| 2 | 536365 | 71053  | WHITE METAL LANTERN                 |  6 | 2010-12-01 08:26:00 | 3.39 | 17850 | United Kingdom |\n",
              "| 3 | 536365 | 84406B | CREAM CUPID HEARTS COAT HANGER      |  8 | 2010-12-01 08:26:00 | 2.75 | 17850 | United Kingdom |\n",
              "| 4 | 536365 | 84029G | KNITTED UNION FLAG HOT WATER BOTTLE |  6 | 2010-12-01 08:26:00 | 3.39 | 17850 | United Kingdom |\n",
              "| 5 | 536365 | 84029E | RED WOOLLY HOTTIE WHITE HEART.      |  6 | 2010-12-01 08:26:00 | 3.39 | 17850 | United Kingdom |\n",
              "| 6 | 536365 | 22752  | SET 7 BABUSHKA NESTING BOXES        |  2 | 2010-12-01 08:26:00 | 7.65 | 17850 | United Kingdom |\n",
              "| 7 | 536365 | 21730  | GLASS STAR FROSTED T-LIGHT HOLDER   |  6 | 2010-12-01 08:26:00 | 4.25 | 17850 | United Kingdom |\n",
              "| 8 | 536366 | 22633  | HAND WARMER UNION JACK              |  6 | 2010-12-01 08:28:00 | 1.85 | 17850 | United Kingdom |\n",
              "| 9 | 536366 | 22632  | HAND WARMER RED POLKA DOT           |  6 | 2010-12-01 08:28:00 | 1.85 | 17850 | United Kingdom |\n",
              "| 10 | 536367 | 84879  | ASSORTED COLOUR BIRD ORNAMENT       | 32 | 2010-12-01 08:34:00 | 1.69 | 13047 | United Kingdom |\n",
              "| 11 | 536367 | 22745  | POPPY'S PLAYHOUSE BEDROOM           |  6 | 2010-12-01 08:34:00 | 2.10 | 13047 | United Kingdom |\n",
              "| 12 | 536367 | 22748  | POPPY'S PLAYHOUSE KITCHEN           |  6 | 2010-12-01 08:34:00 | 2.10 | 13047 | United Kingdom |\n",
              "| 13 | 536367 | 22749  | FELTCRAFT PRINCESS CHARLOTTE DOLL   |  8 | 2010-12-01 08:34:00 | 3.75 | 13047 | United Kingdom |\n",
              "| 14 | 536367 | 22310  | IVORY KNITTED MUG COSY              |  6 | 2010-12-01 08:34:00 | 1.65 | 13047 | United Kingdom |\n",
              "| 15 | 536367 | 84969  | BOX OF 6 ASSORTED COLOUR TEASPOONS  |  6 | 2010-12-01 08:34:00 | 4.25 | 13047 | United Kingdom |\n",
              "| 16 | 536367 | 22623  | BOX OF VINTAGE JIGSAW BLOCKS        |  3 | 2010-12-01 08:34:00 | 4.95 | 13047 | United Kingdom |\n",
              "| 17 | 536367 | 22622  | BOX OF VINTAGE ALPHABET BLOCKS      |  2 | 2010-12-01 08:34:00 | 9.95 | 13047 | United Kingdom |\n",
              "| 18 | 536367 | 21754  | HOME BUILDING BLOCK WORD            |  3 | 2010-12-01 08:34:00 | 5.95 | 13047 | United Kingdom |\n",
              "| 19 | 536367 | 21755  | LOVE BUILDING BLOCK WORD            |  3 | 2010-12-01 08:34:00 | 5.95 | 13047 | United Kingdom |\n",
              "| 20 | 536367 | 21777  | RECIPE BOX WITH METAL HEART         |  4 | 2010-12-01 08:34:00 | 7.95 | 13047 | United Kingdom |\n",
              "| 21 | 536367 | 48187  | DOORMAT NEW ENGLAND                 |  4 | 2010-12-01 08:34:00 | 7.95 | 13047 | United Kingdom |\n",
              "| 22 | 536368 | 22960  | JAM MAKING SET WITH JARS            |  6 | 2010-12-01 08:34:00 | 4.25 | 13047 | United Kingdom |\n",
              "| 23 | 536368 | 22913  | RED COAT RACK PARIS FASHION         |  3 | 2010-12-01 08:34:00 | 4.95 | 13047 | United Kingdom |\n",
              "| 24 | 536368 | 22912  | YELLOW COAT RACK PARIS FASHION      |  3 | 2010-12-01 08:34:00 | 4.95 | 13047 | United Kingdom |\n",
              "| 25 | 536368 | 22914  | BLUE COAT RACK PARIS FASHION        |  3 | 2010-12-01 08:34:00 | 4.95 | 13047 | United Kingdom |\n",
              "| 26 | 536369 | 21756  | BATH BUILDING BLOCK WORD            |  3 | 2010-12-01 08:35:00 | 5.95 | 13047 | United Kingdom |\n",
              "| 27 | 536370 | 22728  | ALARM CLOCK BAKELIKE PINK           | 24 | 2010-12-01 08:45:00 | 3.75 | 12583 | France         |\n",
              "| 28 | 536370 | 22727  | ALARM CLOCK BAKELIKE RED            | 24 | 2010-12-01 08:45:00 | 3.75 | 12583 | France         |\n",
              "| 29 | 536370 | 22726  | ALARM CLOCK BAKELIKE GREEN          | 12 | 2010-12-01 08:45:00 | 3.75 | 12583 | France         |\n",
              "| 30 | 536370 | 21724  | PANDA AND BUNNIES STICKER SHEET     | 12 | 2010-12-01 08:45:00 | 0.85 | 12583 | France         |\n",
              "| ⋮ | ⋮ | ⋮ | ⋮ | ⋮ | ⋮ | ⋮ | ⋮ | ⋮ |\n",
              "| 351413 | 567666 | 21787  | RAIN PONCHO RETROSPOT               |  24 | 2011-09-21 15:23:00 |  0.85 | 12520 | Germany        |\n",
              "| 351414 | 567666 | 23287  | RED VINTAGE SPOT BEAKER             |   8 | 2011-09-21 15:23:00 |  0.85 | 12520 | Germany        |\n",
              "| 351415 | 567666 | 35599D | PINK AND WHITE CHRISTMAS TREE 120CM |   6 | 2011-09-21 15:23:00 |  2.95 | 12520 | Germany        |\n",
              "| 351416 | 567666 | 22398  | MAGNETS PACK OF 4 SWALLOWS          |  12 | 2011-09-21 15:23:00 |  0.39 | 12520 | Germany        |\n",
              "| 351417 | 567666 | 23189  | SET OF 12 FORK CANDLES              |  18 | 2011-09-21 15:23:00 |  2.89 | 12520 | Germany        |\n",
              "| 351418 | 567666 | 35471D | SET OF 3 BIRD LIGHT PINK FEATHER    |  24 | 2011-09-21 15:23:00 |  0.39 | 12520 | Germany        |\n",
              "| 351419 | 567666 | 21035  | SET/2 RED RETROSPOT TEA TOWELS      |   6 | 2011-09-21 15:23:00 |  3.25 | 12520 | Germany        |\n",
              "| 351420 | 567666 | 22900  | SET 2 TEA TOWELS I LOVE LONDON      |   6 | 2011-09-21 15:23:00 |  3.25 | 12520 | Germany        |\n",
              "| 351421 | 567666 | 22629  | SPACEBOY LUNCH BOX                  |  12 | 2011-09-21 15:23:00 |  1.95 | 12520 | Germany        |\n",
              "| 351422 | 567666 | 21094  | SET/6 RED SPOTTY PAPER PLATES       |  12 | 2011-09-21 15:23:00 |  0.85 | 12520 | Germany        |\n",
              "| 351423 | 567666 | 21242  | RED RETROSPOT PLATE                 |  16 | 2011-09-21 15:23:00 |  1.69 | 12520 | Germany        |\n",
              "| 351424 | 567666 | 22378  | WALL TIDY RETROSPOT                 |   5 | 2011-09-21 15:23:00 |  2.10 | 12520 | Germany        |\n",
              "| 351425 | 567666 | 23298  | SPOTTY BUNTING                      |   6 | 2011-09-21 15:23:00 |  4.95 | 12520 | Germany        |\n",
              "| 351426 | 567666 | 22476  | EMPIRE UNION JACK TV DINNER TRAY    |   3 | 2011-09-21 15:23:00 |  4.95 | 12520 | Germany        |\n",
              "| 351427 | 567666 | 22816  | CARD MOTORBIKE SANTA                |  12 | 2011-09-21 15:23:00 |  0.42 | 12520 | Germany        |\n",
              "| 351428 | 567666 | 22333  | RETROSPOT PARTY BAG + STICKER SET   |   8 | 2011-09-21 15:23:00 |  1.65 | 12520 | Germany        |\n",
              "| 351429 | 567666 | 22329  | ROUND CONTAINER SET OF 5 RETROSPOT  |  12 | 2011-09-21 15:23:00 |  1.65 | 12520 | Germany        |\n",
              "| 351430 | 567666 | 22819  | BIRTHDAY CARD, RETRO SPOT           |  12 | 2011-09-21 15:23:00 |  0.42 | 12520 | Germany        |\n",
              "| 351431 | 567666 | 22326  | ROUND SNACK BOXES SET OF4 WOODLAND  |  12 | 2011-09-21 15:23:00 |  2.95 | 12520 | Germany        |\n",
              "| 351432 | 567666 | 23388  | WOODLAND MINI BACKPACK              |   4 | 2011-09-21 15:23:00 |  4.15 | 12520 | Germany        |\n",
              "| 351433 | 567666 | 23389  | SPACEBOY MINI BACKPACK              |   4 | 2011-09-21 15:23:00 |  4.15 | 12520 | Germany        |\n",
              "| 351434 | 567666 | POST   | POSTAGE                             |   4 | 2011-09-21 15:23:00 | 18.00 | 12520 | Germany        |\n",
              "| 351435 | 567666 | 21673  | WHITE SPOT BLUE CERAMIC DRAWER KNOB |  12 | 2011-09-21 15:23:00 |  1.45 | 12520 | Germany        |\n",
              "| 351436 | 567666 | 21672  | WHITE SPOT RED CERAMIC DRAWER KNOB  |  12 | 2011-09-21 15:23:00 |  1.45 | 12520 | Germany        |\n",
              "| 351876 | 567669 | 20724  | RED RETROSPOT CHARLOTTE BAG         | 100 | 2011-09-21 15:32:00 |  0.72 | 14887 | United Kingdom |\n",
              "| 351877 | 567669 | 23203  | JUMBO BAG VINTAGE DOILY             | 200 | 2011-09-21 15:32:00 |  1.79 | 14887 | United Kingdom |\n",
              "| 351878 | 567669 | 23201  | JUMBO BAG ALPHABET                  | 200 | 2011-09-21 15:32:00 |  1.79 | 14887 | United Kingdom |\n",
              "| 351879 | 567669 | 85099F | JUMBO BAG STRAWBERRY                | 200 | 2011-09-21 15:32:00 |  1.79 | 14887 | United Kingdom |\n",
              "| 351880 | 567669 | 85099C | JUMBO  BAG BAROQUE BLACK WHITE      | 200 | 2011-09-21 15:32:00 |  1.79 | 14887 | United Kingdom |\n",
              "| 351881 | 567669 | 85099B | JUMBO BAG RED RETROSPOT             | 200 | 2011-09-21 15:32:00 |  1.79 | 14887 | United Kingdom |\n",
              "\n"
            ],
            "text/plain": [
              "       InvoiceNo StockCode Description                         Quantity\n",
              "1      536365    85123A    WHITE HANGING HEART T-LIGHT HOLDER   6      \n",
              "2      536365    71053     WHITE METAL LANTERN                  6      \n",
              "3      536365    84406B    CREAM CUPID HEARTS COAT HANGER       8      \n",
              "4      536365    84029G    KNITTED UNION FLAG HOT WATER BOTTLE  6      \n",
              "5      536365    84029E    RED WOOLLY HOTTIE WHITE HEART.       6      \n",
              "6      536365    22752     SET 7 BABUSHKA NESTING BOXES         2      \n",
              "7      536365    21730     GLASS STAR FROSTED T-LIGHT HOLDER    6      \n",
              "8      536366    22633     HAND WARMER UNION JACK               6      \n",
              "9      536366    22632     HAND WARMER RED POLKA DOT            6      \n",
              "10     536367    84879     ASSORTED COLOUR BIRD ORNAMENT       32      \n",
              "11     536367    22745     POPPY'S PLAYHOUSE BEDROOM            6      \n",
              "12     536367    22748     POPPY'S PLAYHOUSE KITCHEN            6      \n",
              "13     536367    22749     FELTCRAFT PRINCESS CHARLOTTE DOLL    8      \n",
              "14     536367    22310     IVORY KNITTED MUG COSY               6      \n",
              "15     536367    84969     BOX OF 6 ASSORTED COLOUR TEASPOONS   6      \n",
              "16     536367    22623     BOX OF VINTAGE JIGSAW BLOCKS         3      \n",
              "17     536367    22622     BOX OF VINTAGE ALPHABET BLOCKS       2      \n",
              "18     536367    21754     HOME BUILDING BLOCK WORD             3      \n",
              "19     536367    21755     LOVE BUILDING BLOCK WORD             3      \n",
              "20     536367    21777     RECIPE BOX WITH METAL HEART          4      \n",
              "21     536367    48187     DOORMAT NEW ENGLAND                  4      \n",
              "22     536368    22960     JAM MAKING SET WITH JARS             6      \n",
              "23     536368    22913     RED COAT RACK PARIS FASHION          3      \n",
              "24     536368    22912     YELLOW COAT RACK PARIS FASHION       3      \n",
              "25     536368    22914     BLUE COAT RACK PARIS FASHION         3      \n",
              "26     536369    21756     BATH BUILDING BLOCK WORD             3      \n",
              "27     536370    22728     ALARM CLOCK BAKELIKE PINK           24      \n",
              "28     536370    22727     ALARM CLOCK BAKELIKE RED            24      \n",
              "29     536370    22726     ALARM CLOCK BAKELIKE GREEN          12      \n",
              "30     536370    21724     PANDA AND BUNNIES STICKER SHEET     12      \n",
              "⋮      ⋮         ⋮         ⋮                                   ⋮       \n",
              "351413 567666    21787     RAIN PONCHO RETROSPOT                24     \n",
              "351414 567666    23287     RED VINTAGE SPOT BEAKER               8     \n",
              "351415 567666    35599D    PINK AND WHITE CHRISTMAS TREE 120CM   6     \n",
              "351416 567666    22398     MAGNETS PACK OF 4 SWALLOWS           12     \n",
              "351417 567666    23189     SET OF 12 FORK CANDLES               18     \n",
              "351418 567666    35471D    SET OF 3 BIRD LIGHT PINK FEATHER     24     \n",
              "351419 567666    21035     SET/2 RED RETROSPOT TEA TOWELS        6     \n",
              "351420 567666    22900     SET 2 TEA TOWELS I LOVE LONDON        6     \n",
              "351421 567666    22629     SPACEBOY LUNCH BOX                   12     \n",
              "351422 567666    21094     SET/6 RED SPOTTY PAPER PLATES        12     \n",
              "351423 567666    21242     RED RETROSPOT PLATE                  16     \n",
              "351424 567666    22378     WALL TIDY RETROSPOT                   5     \n",
              "351425 567666    23298     SPOTTY BUNTING                        6     \n",
              "351426 567666    22476     EMPIRE UNION JACK TV DINNER TRAY      3     \n",
              "351427 567666    22816     CARD MOTORBIKE SANTA                 12     \n",
              "351428 567666    22333     RETROSPOT PARTY BAG + STICKER SET     8     \n",
              "351429 567666    22329     ROUND CONTAINER SET OF 5 RETROSPOT   12     \n",
              "351430 567666    22819     BIRTHDAY CARD, RETRO SPOT            12     \n",
              "351431 567666    22326     ROUND SNACK BOXES SET OF4 WOODLAND   12     \n",
              "351432 567666    23388     WOODLAND MINI BACKPACK                4     \n",
              "351433 567666    23389     SPACEBOY MINI BACKPACK                4     \n",
              "351434 567666    POST      POSTAGE                               4     \n",
              "351435 567666    21673     WHITE SPOT BLUE CERAMIC DRAWER KNOB  12     \n",
              "351436 567666    21672     WHITE SPOT RED CERAMIC DRAWER KNOB   12     \n",
              "351876 567669    20724     RED RETROSPOT CHARLOTTE BAG         100     \n",
              "351877 567669    23203     JUMBO BAG VINTAGE DOILY             200     \n",
              "351878 567669    23201     JUMBO BAG ALPHABET                  200     \n",
              "351879 567669    85099F    JUMBO BAG STRAWBERRY                200     \n",
              "351880 567669    85099C    JUMBO  BAG BAROQUE BLACK WHITE      200     \n",
              "351881 567669    85099B    JUMBO BAG RED RETROSPOT             200     \n",
              "       InvoiceDate         UnitPrice CustomerID Country       \n",
              "1      2010-12-01 08:26:00 2.55      17850      United Kingdom\n",
              "2      2010-12-01 08:26:00 3.39      17850      United Kingdom\n",
              "3      2010-12-01 08:26:00 2.75      17850      United Kingdom\n",
              "4      2010-12-01 08:26:00 3.39      17850      United Kingdom\n",
              "5      2010-12-01 08:26:00 3.39      17850      United Kingdom\n",
              "6      2010-12-01 08:26:00 7.65      17850      United Kingdom\n",
              "7      2010-12-01 08:26:00 4.25      17850      United Kingdom\n",
              "8      2010-12-01 08:28:00 1.85      17850      United Kingdom\n",
              "9      2010-12-01 08:28:00 1.85      17850      United Kingdom\n",
              "10     2010-12-01 08:34:00 1.69      13047      United Kingdom\n",
              "11     2010-12-01 08:34:00 2.10      13047      United Kingdom\n",
              "12     2010-12-01 08:34:00 2.10      13047      United Kingdom\n",
              "13     2010-12-01 08:34:00 3.75      13047      United Kingdom\n",
              "14     2010-12-01 08:34:00 1.65      13047      United Kingdom\n",
              "15     2010-12-01 08:34:00 4.25      13047      United Kingdom\n",
              "16     2010-12-01 08:34:00 4.95      13047      United Kingdom\n",
              "17     2010-12-01 08:34:00 9.95      13047      United Kingdom\n",
              "18     2010-12-01 08:34:00 5.95      13047      United Kingdom\n",
              "19     2010-12-01 08:34:00 5.95      13047      United Kingdom\n",
              "20     2010-12-01 08:34:00 7.95      13047      United Kingdom\n",
              "21     2010-12-01 08:34:00 7.95      13047      United Kingdom\n",
              "22     2010-12-01 08:34:00 4.25      13047      United Kingdom\n",
              "23     2010-12-01 08:34:00 4.95      13047      United Kingdom\n",
              "24     2010-12-01 08:34:00 4.95      13047      United Kingdom\n",
              "25     2010-12-01 08:34:00 4.95      13047      United Kingdom\n",
              "26     2010-12-01 08:35:00 5.95      13047      United Kingdom\n",
              "27     2010-12-01 08:45:00 3.75      12583      France        \n",
              "28     2010-12-01 08:45:00 3.75      12583      France        \n",
              "29     2010-12-01 08:45:00 3.75      12583      France        \n",
              "30     2010-12-01 08:45:00 0.85      12583      France        \n",
              "⋮      ⋮                   ⋮         ⋮          ⋮             \n",
              "351413 2011-09-21 15:23:00  0.85     12520      Germany       \n",
              "351414 2011-09-21 15:23:00  0.85     12520      Germany       \n",
              "351415 2011-09-21 15:23:00  2.95     12520      Germany       \n",
              "351416 2011-09-21 15:23:00  0.39     12520      Germany       \n",
              "351417 2011-09-21 15:23:00  2.89     12520      Germany       \n",
              "351418 2011-09-21 15:23:00  0.39     12520      Germany       \n",
              "351419 2011-09-21 15:23:00  3.25     12520      Germany       \n",
              "351420 2011-09-21 15:23:00  3.25     12520      Germany       \n",
              "351421 2011-09-21 15:23:00  1.95     12520      Germany       \n",
              "351422 2011-09-21 15:23:00  0.85     12520      Germany       \n",
              "351423 2011-09-21 15:23:00  1.69     12520      Germany       \n",
              "351424 2011-09-21 15:23:00  2.10     12520      Germany       \n",
              "351425 2011-09-21 15:23:00  4.95     12520      Germany       \n",
              "351426 2011-09-21 15:23:00  4.95     12520      Germany       \n",
              "351427 2011-09-21 15:23:00  0.42     12520      Germany       \n",
              "351428 2011-09-21 15:23:00  1.65     12520      Germany       \n",
              "351429 2011-09-21 15:23:00  1.65     12520      Germany       \n",
              "351430 2011-09-21 15:23:00  0.42     12520      Germany       \n",
              "351431 2011-09-21 15:23:00  2.95     12520      Germany       \n",
              "351432 2011-09-21 15:23:00  4.15     12520      Germany       \n",
              "351433 2011-09-21 15:23:00  4.15     12520      Germany       \n",
              "351434 2011-09-21 15:23:00 18.00     12520      Germany       \n",
              "351435 2011-09-21 15:23:00  1.45     12520      Germany       \n",
              "351436 2011-09-21 15:23:00  1.45     12520      Germany       \n",
              "351876 2011-09-21 15:32:00  0.72     14887      United Kingdom\n",
              "351877 2011-09-21 15:32:00  1.79     14887      United Kingdom\n",
              "351878 2011-09-21 15:32:00  1.79     14887      United Kingdom\n",
              "351879 2011-09-21 15:32:00  1.79     14887      United Kingdom\n",
              "351880 2011-09-21 15:32:00  1.79     14887      United Kingdom\n",
              "351881 2011-09-21 15:32:00  1.79     14887      United Kingdom"
            ]
          },
          "metadata": {},
          "output_type": "display_data"
        }
      ],
      "source": [
        "data <- read.csv(\"online_retail.csv\", fileEncoding = \"UTF-8-BOM\", na.strings = c(\"NA\",\"N/A\",\"\"))\n",
        "data <- na.omit(data)\n",
        "# sum(duplicated(data))\n",
        "data <- data[!duplicated(data), ]\n",
        "data"
      ]
    },
    {
      "cell_type": "code",
      "execution_count": null,
      "metadata": {
        "colab": {
          "base_uri": "https://localhost:8080/"
        },
        "id": "XXozF7mljH0c",
        "outputId": "6910e2b8-0ead-430b-b78b-20dab6c04371",
        "vscode": {
          "languageId": "r"
        }
      },
      "outputs": [
        {
          "name": "stderr",
          "output_type": "stream",
          "text": [
            "Installing package into ‘/usr/local/lib/R/site-library’\n",
            "(as ‘lib’ is unspecified)\n",
            "\n",
            "Installing package into ‘/usr/local/lib/R/site-library’\n",
            "(as ‘lib’ is unspecified)\n",
            "\n",
            "Installing package into ‘/usr/local/lib/R/site-library’\n",
            "(as ‘lib’ is unspecified)\n",
            "\n",
            "Loading required package: Matrix\n",
            "\n",
            "\n",
            "Attaching package: ‘arules’\n",
            "\n",
            "\n",
            "The following objects are masked from ‘package:base’:\n",
            "\n",
            "    abbreviate, write\n",
            "\n",
            "\n"
          ]
        }
      ],
      "source": [
        "# Install dependencies\n",
        "# install.packages(c(\"RcppArmadillo\", \"foreach\", \"qap\", \"TSP\", \"vegan\", \"ggforce\",\n",
        "#                    \"ggrepel\", \"viridis\", \"tidygraph\", \"graphlayouts\", \"crosstalk\",\n",
        "#                    \"arules\", \"seriation\", \"vcd\", \"igraph\", \"scatterplot3d\",\n",
        "#                    \"ggraph\", \"DT\", \"plotly\", \"visNetwork\"))\n",
        "\n",
        "# Install main packages\n",
        "# install.packages(\"arulesViz\")\n",
        "# install.packages(\"tidyverse\")\n",
        "# install.packages(\"repr\")\n",
        "# install.packages(\"devtools\")\n",
        "\n",
        "install.packages(\"https://mhahsler.github.io/arules/docs/fim4r/fim4r_latest.tar.gz\", repos = NULL, type = \"source\")\n",
        "\n",
        "# library(arulesViz)\n",
        "# library(tidyverse)\n",
        "# library(repr)\n",
        "# library(igraph)\n",
        "# library(arules)\n",
        "# library(fim4r)\n",
        "\n",
        "\n",
        "install.packages(\"arules\")\n",
        "install.packages(\"https://mhahsler.github.io/arules/docs/fim4r/fim4r_latest.tar.gz\", repos = NULL, type = \"source\")\n",
        "library(arules)\n",
        "library(fim4r)"
      ]
    },
    {
      "cell_type": "markdown",
      "metadata": {
        "id": "pdjz7CR99-1a"
      },
      "source": [
        "# Global"
      ]
    },
    {
      "cell_type": "code",
      "execution_count": null,
      "metadata": {
        "colab": {
          "base_uri": "https://localhost:8080/"
        },
        "id": "2-4MOElUh4uw",
        "outputId": "0b8b0dd6-f517-4bdb-c883-5f1daa74fa6b",
        "vscode": {
          "languageId": "r"
        }
      },
      "outputs": [
        {
          "name": "stderr",
          "output_type": "stream",
          "text": [
            "Warning message in asMethod(object):\n",
            "“removing duplicated items in transactions”\n"
          ]
        },
        {
          "name": "stdout",
          "output_type": "stream",
          "text": [
            "fim4r.fpgrowth \n",
            "\n",
            "Parameter specification:\n",
            " supp conf target report\n",
            "    1   30  rules    scl\n",
            "\n",
            "Data size: 15144 transactions and 3619 items \n",
            "Result: 420 rules\n",
            "    lhs                                   rhs                                   support confidence      lift count\n",
            "[1] {GREEN REGENCY TEACUP AND SAUCER}  => {ROSES REGENCY TEACUP AND SAUCER } 0.02892235  0.7604167 17.853876   438\n",
            "[2] {ROSES REGENCY TEACUP AND SAUCER } => {GREEN REGENCY TEACUP AND SAUCER}  0.02892235  0.6790698 17.853876   438\n",
            "[3] {LUNCH BAG PINK POLKADOT}          => {LUNCH BAG RED RETROSPOT}          0.02727153  0.5558546  8.318046   413\n",
            "[4] {LUNCH BAG RED RETROSPOT}          => {LUNCH BAG PINK POLKADOT}          0.02727153  0.4081028  8.318046   413\n",
            "[5] {JUMBO BAG PINK POLKADOT}          => {JUMBO BAG RED RETROSPOT}          0.02707343  0.6259542  8.264560   410\n",
            "[6] {JUMBO BAG RED RETROSPOT}          => {JUMBO BAG PINK POLKADOT}          0.02707343  0.3574542  8.264560   410\n"
          ]
        }
      ],
      "source": [
        "transactions <- as(split(data$Description, data$InvoiceNo), \"transactions\")\n",
        "\n",
        "trules <- fim4r(transactions, method = \"fpgrowth\", target = \"rules\", supp = 0.01, conf = 0.3)\n",
        "\n",
        "# Inspect sorted rules by supp\n",
        "inspect(head(sort(trules, by = \"support\")))"
      ]
    },
    {
      "cell_type": "markdown",
      "metadata": {
        "id": "2Hb8kTjM8CzX"
      },
      "source": [
        "# United Kingdom\n"
      ]
    },
    {
      "cell_type": "code",
      "execution_count": null,
      "metadata": {
        "colab": {
          "base_uri": "https://localhost:8080/"
        },
        "id": "LUXNIgIc8E_u",
        "outputId": "0be73b41-6f5f-46c3-fc41-e57c064cd745",
        "vscode": {
          "languageId": "r"
        }
      },
      "outputs": [
        {
          "name": "stderr",
          "output_type": "stream",
          "text": [
            "Warning message in asMethod(object):\n",
            "“removing duplicated items in transactions”\n"
          ]
        },
        {
          "name": "stdout",
          "output_type": "stream",
          "text": [
            "fim4r.fpgrowth \n",
            "\n",
            "Parameter specification:\n",
            " supp conf target report\n",
            "    1   30  rules    scl\n",
            "\n",
            "Data size: 13598 transactions and 3592 items \n",
            "Result: 441 rules\n",
            "    lhs                                   rhs                                   support confidence      lift count\n",
            "[1] {GREEN REGENCY TEACUP AND SAUCER}  => {ROSES REGENCY TEACUP AND SAUCER } 0.02868069  0.7558140 18.126205   390\n",
            "[2] {ROSES REGENCY TEACUP AND SAUCER } => {GREEN REGENCY TEACUP AND SAUCER}  0.02868069  0.6878307 18.126205   390\n",
            "[3] {JUMBO BAG PINK POLKADOT}          => {JUMBO BAG RED RETROSPOT}          0.02787175  0.6213115  8.123648   379\n",
            "[4] {JUMBO BAG RED RETROSPOT}          => {JUMBO BAG PINK POLKADOT}          0.02787175  0.3644231  8.123648   379\n",
            "[5] {LUNCH BAG PINK POLKADOT}          => {LUNCH BAG RED RETROSPOT}          0.02720988  0.5465288  8.464349   370\n",
            "[6] {LUNCH BAG RED RETROSPOT}          => {LUNCH BAG PINK POLKADOT}          0.02720988  0.4214123  8.464349   370\n"
          ]
        }
      ],
      "source": [
        "# Have the data be exclusively UK only\n",
        "UKdata <- subset(data, data$Country == \"United Kingdom\")\n",
        "\n",
        "transactions <- as(split(UKdata$Description, UKdata$InvoiceNo), \"transactions\")\n",
        "\n",
        "trules <- fim4r(transactions, method = \"fpgrowth\", target = \"rules\", supp = 0.01, conf = 0.3)\n",
        "\n",
        "# Inspect sorted rules by supp\n",
        "inspect(head(sort(trules, by = \"support\")))"
      ]
    },
    {
      "cell_type": "markdown",
      "metadata": {
        "id": "Y-dGdEdW8FYT"
      },
      "source": [
        "# France"
      ]
    },
    {
      "cell_type": "code",
      "execution_count": null,
      "metadata": {
        "colab": {
          "base_uri": "https://localhost:8080/"
        },
        "id": "nsx_KKst-ntt",
        "outputId": "6610069e-ca5f-4a7f-dff4-e510908d772c",
        "vscode": {
          "languageId": "r"
        }
      },
      "outputs": [
        {
          "name": "stderr",
          "output_type": "stream",
          "text": [
            "Warning message in asMethod(object):\n",
            "“removing duplicated items in transactions”\n"
          ]
        },
        {
          "name": "stdout",
          "output_type": "stream",
          "text": [
            "fim4r.fpgrowth \n",
            "\n",
            "Parameter specification:\n",
            " supp conf target report\n",
            "    5   30  rules    scl\n",
            "\n",
            "Data size: 300 transactions and 1190 items \n",
            "Result: 163 rules\n",
            "    lhs                                      rhs                               support confidence     lift count\n",
            "[1] {}                                    => {POSTAGE}                       0.6900000  0.6900000 1.000000   206\n",
            "[2] {RED TOADSTOOL LED NIGHT LIGHT}       => {POSTAGE}                       0.1433333  0.9347826 1.354757    43\n",
            "[3] {PLASTERS IN TIN CIRCUS PARADE }      => {POSTAGE}                       0.1333333  0.8510638 1.233426    40\n",
            "[4] {SET/6 RED SPOTTY PAPER PLATES}       => {SET/6 RED SPOTTY PAPER CUPS}   0.1333333  0.9523810 6.493506    40\n",
            "[5] {SET/6 RED SPOTTY PAPER CUPS}         => {SET/6 RED SPOTTY PAPER PLATES} 0.1333333  0.9090909 6.493506    40\n",
            "[6] {ROUND SNACK BOXES SET OF4 WOODLAND } => {POSTAGE}                       0.1266667  0.9268293 1.343231    38\n"
          ]
        }
      ],
      "source": [
        "# Have the data be exclusively France only\n",
        "FRdata <- subset(data, data$Country == \"France\")\n",
        "\n",
        "transactions <- as(split(FRdata$Description, FRdata$InvoiceNo), \"transactions\")\n",
        "\n",
        "trules <- fim4r(transactions, method = \"fpgrowth\", target = \"rules\", supp = 0.05, conf = 0.3)\n",
        "\n",
        "# Inspect sorted rules by supp\n",
        "inspect(head(sort(trules, by = \"support\")))"
      ]
    },
    {
      "cell_type": "markdown",
      "metadata": {
        "id": "rsk5o6Gh-oHh"
      },
      "source": [
        "# Germany"
      ]
    },
    {
      "cell_type": "code",
      "execution_count": null,
      "metadata": {
        "colab": {
          "base_uri": "https://localhost:8080/"
        },
        "id": "JAPD0lQH-smE",
        "outputId": "d68faa6a-10a8-475d-ecca-9b77cc913dfe",
        "vscode": {
          "languageId": "r"
        }
      },
      "outputs": [
        {
          "name": "stderr",
          "output_type": "stream",
          "text": [
            "Warning message in asMethod(object):\n",
            "“removing duplicated items in transactions”\n"
          ]
        },
        {
          "name": "stdout",
          "output_type": "stream",
          "text": [
            "fim4r.fpgrowth \n",
            "\n",
            "Parameter specification:\n",
            " supp conf target report\n",
            "    1   30  rules    scl\n",
            "\n",
            "Data size: 403 transactions and 1415 items \n",
            "Result: 6315 rules\n",
            "    lhs                                      rhs                                     support confidence     lift count\n",
            "[1] {}                                    => {POSTAGE}                             0.6203474  0.6203474 1.000000   250\n",
            "[2] {ROUND SNACK BOXES SET OF4 WOODLAND } => {POSTAGE}                             0.1811414  0.8295455 1.337227    73\n",
            "[3] {ROUND SNACK BOXES SET OF 4 FRUITS }  => {POSTAGE}                             0.1290323  0.8666667 1.397067    52\n",
            "[4] {ROUND SNACK BOXES SET OF 4 FRUITS }  => {ROUND SNACK BOXES SET OF4 WOODLAND } 0.1240695  0.8333333 3.816288    50\n",
            "[5] {ROUND SNACK BOXES SET OF4 WOODLAND } => {ROUND SNACK BOXES SET OF 4 FRUITS }  0.1240695  0.5681818 3.816288    50\n",
            "[6] {ROUND SNACK BOXES SET OF 4 FRUITS ,                                                                              \n",
            "     ROUND SNACK BOXES SET OF4 WOODLAND } => {POSTAGE}                             0.1116625  0.9000000 1.450800    45\n"
          ]
        }
      ],
      "source": [
        "# Have the data be exclusively Germany only\n",
        "GRdata <- subset(data, data$Country == \"Germany\")\n",
        "\n",
        "transactions <- as(split(GRdata$Description, GRdata$InvoiceNo), \"transactions\")\n",
        "\n",
        "trules <- fim4r(transactions, method = \"fpgrowth\", target = \"rules\", supp = 0.01, conf = 0.3)\n",
        "\n",
        "# Inspect sorted rules by supp\n",
        "inspect(head(sort(trules, by = \"support\")))"
      ]
    }
  ],
  "metadata": {
    "colab": {
      "collapsed_sections": [
        "pdjz7CR99-1a"
      ],
      "provenance": []
    },
    "kernelspec": {
      "display_name": "R",
      "name": "ir"
    },
    "language_info": {
      "name": "R"
    }
  },
  "nbformat": 4,
  "nbformat_minor": 0
}
